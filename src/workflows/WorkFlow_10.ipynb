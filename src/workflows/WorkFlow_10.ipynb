{
  "cells": [
    {
      "cell_type": "markdown",
      "id": "859d38e7-11c0-48bc-978a-d0e907f19ed1",
      "metadata": {
        "id": "859d38e7-11c0-48bc-978a-d0e907f19ed1"
      },
      "source": [
        "# 7 WorkFlow"
      ]
    },
    {
      "cell_type": "markdown",
      "id": "29c586e3-ed7d-44b2-92a0-f19669f06940",
      "metadata": {
        "id": "29c586e3-ed7d-44b2-92a0-f19669f06940"
      },
      "source": [
        "### 7.1 Objetivo"
      ]
    },
    {
      "cell_type": "markdown",
      "id": "6fff8327-10ed-4b11-bbee-f1c3f357d123",
      "metadata": {
        "id": "6fff8327-10ed-4b11-bbee-f1c3f357d123"
      },
      "source": [
        "Presentar un workflow/pipeline completo al que los estudiantes deberán enriquecer"
      ]
    },
    {
      "cell_type": "markdown",
      "source": [
        "#### 7.2  Seteo del ambiente en Google Colab"
      ],
      "metadata": {
        "id": "PX0qg_c0yqob"
      },
      "id": "PX0qg_c0yqob"
    },
    {
      "cell_type": "markdown",
      "source": [],
      "metadata": {
        "id": "tfCxUZeUadhx"
      },
      "id": "tfCxUZeUadhx"
    },
    {
      "cell_type": "markdown",
      "metadata": {
        "id": "NGY7H9xza7Zr"
      },
      "source": [
        "Esta parte se debe correr con el runtime en Python3\n",
        "<br>Ir al menu, Runtime -> Change Runtime Type -> Runtime type ->  **Python 3**"
      ],
      "id": "NGY7H9xza7Zr"
    },
    {
      "cell_type": "markdown",
      "metadata": {
        "id": "7PupIBNba7Zr"
      },
      "source": [
        "Conectar la virtual machine donde esta corriendo Google Colab con el  Google Drive, para poder tener persistencia de archivos"
      ],
      "id": "7PupIBNba7Zr"
    },
    {
      "cell_type": "code",
      "execution_count": null,
      "metadata": {
        "id": "9LpZCst5a7Zs"
      },
      "outputs": [],
      "source": [
        "# primero establecer el Runtime de Python 3\n",
        "from google.colab import drive\n",
        "drive.mount('/content/.drive')"
      ],
      "id": "9LpZCst5a7Zs"
    },
    {
      "cell_type": "markdown",
      "metadata": {
        "id": "JYC_F-wla7Zs"
      },
      "source": [
        "Para correr la siguiente celda es fundamental en Arranque en Frio haber copiado el archivo kaggle.json al Google Drive, en la carpeta indicada en el instructivo\n",
        "\n",
        "<br>los siguientes comando estan en shell script de Linux\n",
        "*   Crear las carpetas en el Google Drive\n",
        "*   \"instalar\" el archivo kaggle.json desde el Google Drive a la virtual machine para que pueda ser utilizado por la libreria  kaggle de Python\n",
        "*   Bajar el  **dataset_pequeno**  al  Google Drive  y tambien al disco local de la virtual machine que esta corriendo Google Colab\n",
        "*   Bajar el **dataset_historico** al Google Drive y tambien al disco local de la virtual machine que esta corriendo Google Colab\n",
        "\n"
      ],
      "id": "JYC_F-wla7Zs"
    },
    {
      "cell_type": "markdown",
      "source": [
        "*  Si usted eligió modalidad *Gerencial* entonces NO debe modificar nada, su liderazgo logró que otras trabajaron por usted\n",
        "*  Si usted eligió modalidad de *Analista Junior*, entonces donde dice archivo=\"gerencial_competencia_2025.csv.gz\"  lo debe cambiar por  archivo=\"analistajr_competencia_2025.csv.gz\"\n",
        "*  Si usted eligió modalidad *Analista Senior*,  ya se las ingenierá SIN preguntar !"
      ],
      "metadata": {
        "id": "4fcqHsG9hdlx"
      },
      "id": "4fcqHsG9hdlx"
    },
    {
      "cell_type": "code",
      "execution_count": 2,
      "metadata": {
        "id": "XWLelftXa7Zt",
        "outputId": "8018fc31-243e-4995-b378-ab9401b9c015",
        "colab": {
          "base_uri": "https://localhost:8080/"
        }
      },
      "outputs": [
        {
          "output_type": "stream",
          "name": "stdout",
          "text": [
            "cp: cannot stat '/content/buckets/b1/kaggle/kaggle.json': No such file or directory\n",
            "chmod: cannot access '/root/.kaggle/kaggle.json': No such file or directory\n"
          ]
        },
        {
          "output_type": "execute_result",
          "data": {
            "text/plain": []
          },
          "metadata": {},
          "execution_count": 2
        }
      ],
      "source": [
        "%%shell\n",
        "\n",
        "mkdir -p \"/content/.drive/My Drive/labo1\"\n",
        "mkdir -p \"/content/buckets\"\n",
        "ln -s \"/content/.drive/My Drive/labo1\" /content/buckets/b1\n",
        "\n",
        "mkdir -p ~/.kaggle\n",
        "cp /content/buckets/b1/kaggle/kaggle.json  ~/.kaggle\n",
        "chmod 600 ~/.kaggle/kaggle.json\n",
        "\n",
        "\n",
        "mkdir -p /content/buckets/b1/exp\n",
        "mkdir -p /content/buckets/b1/datasets\n",
        "mkdir -p /content/datasets\n",
        "\n",
        "\n",
        "webfiles=\"https://storage.googleapis.com/open-courses/austral2025-af91/labo1r\"\n",
        "destino_local=\"/content/datasets\"\n",
        "destino_bucket=\"/content/buckets/b1/datasets\"\n",
        "\n",
        "\n",
        "archivo=\"dataset_pequeno.csv\"\n",
        "\n",
        "if ! test -f $destino_bucket/$archivo; then\n",
        "  wget  $webfiles/$archivo  -O $destino_bucket/$archivo\n",
        "fi\n",
        "\n",
        "\n",
        "if ! test -f $destino_local/$pequeno; then\n",
        "  cp  $destino_bucket/$archivo  $destino_local/$archivo\n",
        "fi\n",
        "\n",
        "#-------\n",
        "\n",
        "archivo=\"gerencial_competencia_2025.csv.gz\"\n",
        "\n",
        "if ! test -f $destino_bucket/$archivo; then\n",
        "  wget  $webfiles/$archivo  -O $destino_bucket/$archivo\n",
        "fi\n",
        "\n",
        "\n",
        "if ! test -f $destino_local/$pequeno; then\n",
        "  cp  $destino_bucket/$archivo  $destino_local/$archivo\n",
        "fi\n"
      ],
      "id": "XWLelftXa7Zt"
    },
    {
      "cell_type": "markdown",
      "source": [
        "## 7.3  Workflow"
      ],
      "metadata": {
        "id": "oSKhZRToy2F7"
      },
      "id": "oSKhZRToy2F7"
    },
    {
      "cell_type": "markdown",
      "id": "85171302-a2d6-48cb-b9b2-8d839a276859",
      "metadata": {
        "id": "85171302-a2d6-48cb-b9b2-8d839a276859"
      },
      "source": [
        "## Inicializacion"
      ]
    },
    {
      "cell_type": "markdown",
      "metadata": {
        "id": "eSU5vi00CPRS"
      },
      "source": [
        "Esta parte se debe correr con el runtime en lenguaje **R** Ir al menu, Runtime -> Change Runtime Type -> Runtime type -> R"
      ],
      "id": "eSU5vi00CPRS"
    },
    {
      "cell_type": "markdown",
      "metadata": {
        "id": "Zq8dySimCPRT"
      },
      "source": [
        "limpio el ambiente de R"
      ],
      "id": "Zq8dySimCPRT"
    },
    {
      "cell_type": "code",
      "source": [
        "format(Sys.time(), \"%a %b %d %X %Y\")"
      ],
      "metadata": {
        "id": "EL8wdHaUs59K",
        "outputId": "d9691b98-a139-40fe-dc29-277be98e0026",
        "colab": {
          "base_uri": "https://localhost:8080/",
          "height": 34
        }
      },
      "id": "EL8wdHaUs59K",
      "execution_count": 1,
      "outputs": [
        {
          "output_type": "display_data",
          "data": {
            "text/html": [
              "'Wed Jul 16 11:56:30 PM 2025'"
            ],
            "text/markdown": "'Wed Jul 16 11:56:30 PM 2025'",
            "text/latex": "'Wed Jul 16 11:56:30 PM 2025'",
            "text/plain": [
              "[1] \"Wed Jul 16 11:56:30 PM 2025\""
            ]
          },
          "metadata": {}
        }
      ]
    },
    {
      "cell_type": "code",
      "execution_count": 2,
      "metadata": {
        "id": "1iE0U4_WCPRT",
        "outputId": "7d5dc31e-5b9b-417c-95bd-7ec3d76c13d6",
        "colab": {
          "base_uri": "https://localhost:8080/",
          "height": 129
        }
      },
      "outputs": [
        {
          "output_type": "display_data",
          "data": {
            "text/html": [
              "<table class=\"dataframe\">\n",
              "<caption>A matrix: 2 × 6 of type dbl</caption>\n",
              "<thead>\n",
              "\t<tr><th></th><th scope=col>used</th><th scope=col>(Mb)</th><th scope=col>gc trigger</th><th scope=col>(Mb)</th><th scope=col>max used</th><th scope=col>(Mb)</th></tr>\n",
              "</thead>\n",
              "<tbody>\n",
              "\t<tr><th scope=row>Ncells</th><td> 664592</td><td>35.5</td><td>1454468</td><td>77.7</td><td>1454468</td><td>77.7</td></tr>\n",
              "\t<tr><th scope=row>Vcells</th><td>1237066</td><td> 9.5</td><td>8388608</td><td>64.0</td><td>1975128</td><td>15.1</td></tr>\n",
              "</tbody>\n",
              "</table>\n"
            ],
            "text/markdown": "\nA matrix: 2 × 6 of type dbl\n\n| <!--/--> | used | (Mb) | gc trigger | (Mb) | max used | (Mb) |\n|---|---|---|---|---|---|---|\n| Ncells |  664592 | 35.5 | 1454468 | 77.7 | 1454468 | 77.7 |\n| Vcells | 1237066 |  9.5 | 8388608 | 64.0 | 1975128 | 15.1 |\n\n",
            "text/latex": "A matrix: 2 × 6 of type dbl\n\\begin{tabular}{r|llllll}\n  & used & (Mb) & gc trigger & (Mb) & max used & (Mb)\\\\\n\\hline\n\tNcells &  664592 & 35.5 & 1454468 & 77.7 & 1454468 & 77.7\\\\\n\tVcells & 1237066 &  9.5 & 8388608 & 64.0 & 1975128 & 15.1\\\\\n\\end{tabular}\n",
            "text/plain": [
              "       used    (Mb) gc trigger (Mb) max used (Mb)\n",
              "Ncells  664592 35.5 1454468    77.7 1454468  77.7\n",
              "Vcells 1237066  9.5 8388608    64.0 1975128  15.1"
            ]
          },
          "metadata": {}
        }
      ],
      "source": [
        "# limpio la memoria\n",
        "rm(list=ls(all.names=TRUE)) # remove all objects\n",
        "gc(full=TRUE, verbose=FALSE) # garbage collection"
      ],
      "id": "1iE0U4_WCPRT"
    },
    {
      "cell_type": "code",
      "source": [
        "require(\"data.table\")\n",
        "\n",
        "if( !require(\"R.utils\")) install.packages(\"R.utils\")\n",
        "require(\"R.utils\")"
      ],
      "metadata": {
        "id": "atmIUEUNUrK5",
        "outputId": "b68a7e74-dc40-4575-def4-7368048aaff4",
        "colab": {
          "base_uri": "https://localhost:8080/"
        }
      },
      "id": "atmIUEUNUrK5",
      "execution_count": 3,
      "outputs": [
        {
          "output_type": "stream",
          "name": "stderr",
          "text": [
            "Loading required package: data.table\n",
            "\n",
            "Loading required package: R.utils\n",
            "\n",
            "Warning message in library(package, lib.loc = lib.loc, character.only = TRUE, logical.return = TRUE, :\n",
            "“there is no package called ‘R.utils’”\n",
            "Installing package into ‘/usr/local/lib/R/site-library’\n",
            "(as ‘lib’ is unspecified)\n",
            "\n",
            "also installing the dependencies ‘R.oo’, ‘R.methodsS3’\n",
            "\n",
            "\n",
            "Loading required package: R.utils\n",
            "\n",
            "Loading required package: R.oo\n",
            "\n",
            "Loading required package: R.methodsS3\n",
            "\n",
            "R.methodsS3 v1.8.2 (2022-06-13 22:00:14 UTC) successfully loaded. See ?R.methodsS3 for help.\n",
            "\n",
            "R.oo v1.27.1 (2025-05-02 21:00:05 UTC) successfully loaded. See ?R.oo for help.\n",
            "\n",
            "\n",
            "Attaching package: ‘R.oo’\n",
            "\n",
            "\n",
            "The following object is masked from ‘package:R.methodsS3’:\n",
            "\n",
            "    throw\n",
            "\n",
            "\n",
            "The following objects are masked from ‘package:methods’:\n",
            "\n",
            "    getClasses, getMethods\n",
            "\n",
            "\n",
            "The following objects are masked from ‘package:base’:\n",
            "\n",
            "    attach, detach, load, save\n",
            "\n",
            "\n",
            "R.utils v2.13.0 (2025-02-24 21:20:02 UTC) successfully loaded. See ?R.utils for help.\n",
            "\n",
            "\n",
            "Attaching package: ‘R.utils’\n",
            "\n",
            "\n",
            "The following object is masked from ‘package:utils’:\n",
            "\n",
            "    timestamp\n",
            "\n",
            "\n",
            "The following objects are masked from ‘package:base’:\n",
            "\n",
            "    cat, commandArgs, getOption, isOpen, nullfile, parse, use, warnings\n",
            "\n",
            "\n"
          ]
        }
      ]
    },
    {
      "cell_type": "markdown",
      "source": [
        "#### Parametros\n",
        "Si es gerente, no cambie nada\n",
        "<br>Si es Analista, cambie el nombre del dataset"
      ],
      "metadata": {
        "id": "BsxZ_ONyj9L_"
      },
      "id": "BsxZ_ONyj9L_"
    },
    {
      "cell_type": "code",
      "source": [
        "PARAM <- list()\n",
        "PARAM$semilla_primigenia <- 160423\n",
        "\n",
        "PARAM$experimento <- 1010160423\n",
        "PARAM$dataset <- \"gerencial_competencia_2025.csv.gz\""
      ],
      "metadata": {
        "id": "peRH7ySLCPRV"
      },
      "execution_count": 1,
      "outputs": [],
      "id": "peRH7ySLCPRV"
    },
    {
      "cell_type": "markdown",
      "source": [
        "#### Carpeta del Experimento"
      ],
      "metadata": {
        "id": "NoJbKo_4NG8A"
      },
      "id": "NoJbKo_4NG8A"
    },
    {
      "cell_type": "code",
      "source": [
        "# carpeta de trabajo\n",
        "\n",
        "setwd(\"/content/buckets/b1/exp\")\n",
        "experimento_folder <- paste0(\"WF\", PARAM$experimento)\n",
        "dir.create(experimento_folder, showWarnings=FALSE)\n",
        "setwd( paste0(\"/content/buckets/b1/exp/\", experimento_folder ))"
      ],
      "metadata": {
        "id": "1gZD6ZMvCPRV",
        "outputId": "722376f3-3ff8-4b86-a6c6-92af2ca3c8ae",
        "colab": {
          "base_uri": "https://localhost:8080/",
          "height": 238
        }
      },
      "execution_count": 2,
      "outputs": [
        {
          "output_type": "error",
          "ename": "ERROR",
          "evalue": "Error in setwd(\"/content/buckets/b1/exp\"): cannot change working directory\n",
          "traceback": [
            "Error in setwd(\"/content/buckets/b1/exp\"): cannot change working directory\nTraceback:\n",
            "1. .handleSimpleError(function (cnd) \n . {\n .     watcher$capture_plot_and_output()\n .     cnd <- sanitize_call(cnd)\n .     watcher$push(cnd)\n .     switch(on_error, continue = invokeRestart(\"eval_continue\"), \n .         stop = invokeRestart(\"eval_stop\"), error = NULL)\n . }, \"cannot change working directory\", base::quote(setwd(\"/content/buckets/b1/exp\")))"
          ]
        }
      ],
      "id": "1gZD6ZMvCPRV"
    },
    {
      "cell_type": "markdown",
      "source": [
        "### 7.3.1   Preprocesamiento del dataset"
      ],
      "metadata": {
        "id": "YVKBfLtkR8SO"
      },
      "id": "YVKBfLtkR8SO"
    },
    {
      "cell_type": "markdown",
      "source": [
        "#### 7.3.1.1  DT incorporar dataset"
      ],
      "metadata": {
        "id": "cr3K0RPVRjq6"
      },
      "id": "cr3K0RPVRjq6"
    },
    {
      "cell_type": "code",
      "source": [
        "# lectura del dataset\n",
        "dataset <- fread(paste0(\"/content/datasets/\", PARAM$dataset))"
      ],
      "metadata": {
        "id": "Xi0emX2ECPRV"
      },
      "execution_count": 40,
      "outputs": [],
      "id": "Xi0emX2ECPRV"
    },
    {
      "cell_type": "markdown",
      "source": [
        "#### 7.3.1.2  CA  Catastrophe Analysis\n",
        "Se intentan reparar las variables que para un mes están con todos los valores en cero."
      ],
      "metadata": {
        "id": "MWuPzK3nSLY3"
      },
      "id": "MWuPzK3nSLY3"
    },
    {
      "cell_type": "markdown",
      "source": [
        "El método que se utiliza es **Machine Learning** se asigna NA also valores, si ha leido bien, es la \"anti imputación de valores faltantes\"\n",
        "<br> Usted podrá aplicar aquí otros métodos"
      ],
      "metadata": {
        "id": "UAI16-yCVcBS"
      },
      "id": "UAI16-yCVcBS"
    },
    {
      "cell_type": "code",
      "source": [
        "dataset[ foto_mes==202006, internet:=NA]\n",
        "dataset[ foto_mes==202006, mrentabilidad:=NA]\n",
        "dataset[ foto_mes==202006, mrentabilidad_annual:=NA]\n",
        "dataset[ foto_mes==202006, mcomisiones:=NA]\n",
        "dataset[ foto_mes==202006, mactivos_margen:=NA]\n",
        "dataset[ foto_mes==202006, mpasivos_margen:=NA]\n",
        "dataset[ foto_mes==202006, mcuentas_saldo:=NA]\n",
        "dataset[ foto_mes==202006, ctarjeta_visa_transacciones:=NA]\n",
        "dataset[ foto_mes==202006, mtarjeta_visa_consumo:=NA]\n",
        "dataset[ foto_mes==202006, mtarjeta_master_consumo:=NA]\n",
        "dataset[ foto_mes==202006, ccallcenter_transacciones:=NA]\n",
        "dataset[ foto_mes==202006, chomebanking_transacciones:=NA]\n",
        "dataset[ foto_mes==202006, chomebanking_transacciones:=NA]"
      ],
      "metadata": {
        "id": "sTmliO_FXv9E"
      },
      "id": "sTmliO_FXv9E",
      "execution_count": 41,
      "outputs": []
    },
    {
      "cell_type": "markdown",
      "source": [
        "#### 7.3.1.3  DR  Data Drifting\n",
        "Se intenta corregir el data drifting, quizas ajustando por IPC ...\n",
        "<br>Esta parte podrá ser abordada por todos los Analistas y también la Gerenciapero se decide pedagogicamente no incluirla en esta primer version para reducir la carga cognitiva"
      ],
      "metadata": {
        "id": "-4NiANYFSYHG"
      },
      "id": "-4NiANYFSYHG"
    },
    {
      "cell_type": "code",
      "source": [
        "# ranking de las variables monto (comienzan con m) para cada período (un mismo período corresponde a un mismo valor en foto_mes ) utilizando la funcion frank de data.table. Todas las variables  de monto deben ser reemplazadas con la nueva variable de rankig que debe ser entre 0 y 1.\n",
        "\n",
        "# obtener las columnas que comienzan con 'm'\n",
        "columnas_monto <- grep(\"^m\", names(dataset), value = TRUE)\n",
        "\n",
        "# aplicar la el metodo rank_simple (frank para cada columna de monto por foto_mes)\n",
        "for (col in columnas_monto) {\n",
        "  dataset[, (col) := frankv(.SD, order = TRUE, ties.method = \"dense\") / .N, by = foto_mes, .SDcols = col]\n",
        "}"
      ],
      "metadata": {
        "id": "ohoUxvcGbWNq"
      },
      "id": "ohoUxvcGbWNq",
      "execution_count": 42,
      "outputs": []
    },
    {
      "cell_type": "code",
      "source": [
        "# sin codigo en esta primera version del workflow"
      ],
      "metadata": {
        "id": "L85A2lwKSe3k"
      },
      "id": "L85A2lwKSe3k",
      "execution_count": 43,
      "outputs": []
    },
    {
      "cell_type": "markdown",
      "source": [
        "#### 7.3.1.3  FE_intra_manual Feature Engineering intra-mes\n",
        "\n",
        "Agrego campos nuevos dentro del mismo mes, SIN considerar la historia."
      ],
      "metadata": {
        "id": "7sppIDYeSn5X"
      },
      "id": "7sppIDYeSn5X"
    },
    {
      "cell_type": "code",
      "source": [
        "# esta funcion atributos presentes existe debido a que las modalidades poseen datasets con distinta cantidad de campos\n",
        "atributos_presentes <- function( patributos )\n",
        "{\n",
        "  atributos <- unique( patributos )\n",
        "  comun <- intersect( atributos, colnames(dataset) )\n",
        "\n",
        "  return(  length( atributos ) == length( comun ) )\n",
        "}\n",
        "\n",
        "# el mes 1,2, ..12\n",
        "if( atributos_presentes( c(\"foto_mes\") ))\n",
        "  dataset[, kmes := foto_mes %% 100]\n",
        "\n",
        "# variable extraida de una tesis de maestria de Irlanda\n",
        "if( atributos_presentes( c(\"mpayroll\", \"cliente_edad\") ))\n",
        "  dataset[, mpayroll_sobre_edad := mpayroll / cliente_edad]\n"
      ],
      "metadata": {
        "id": "qrqf3j3_St3p"
      },
      "id": "qrqf3j3_St3p",
      "execution_count": 44,
      "outputs": []
    },
    {
      "cell_type": "code",
      "source": [
        "# visualizo las columas del dataset a esta etapa\n",
        "colnames(dataset)"
      ],
      "metadata": {
        "id": "iC4viwOdY5Kp",
        "outputId": "527fe0ad-2b62-4b05-9e17-e54b9c09c11a",
        "colab": {
          "base_uri": "https://localhost:8080/",
          "height": 69
        }
      },
      "id": "iC4viwOdY5Kp",
      "execution_count": 45,
      "outputs": [
        {
          "output_type": "display_data",
          "data": {
            "text/html": [
              "<style>\n",
              ".list-inline {list-style: none; margin:0; padding: 0}\n",
              ".list-inline>li {display: inline-block}\n",
              ".list-inline>li:not(:last-child)::after {content: \"\\00b7\"; padding: 0 .5ex}\n",
              "</style>\n",
              "<ol class=list-inline><li>'numero_de_cliente'</li><li>'foto_mes'</li><li>'internet'</li><li>'cliente_edad'</li><li>'cliente_antiguedad'</li><li>'mrentabilidad'</li><li>'mrentabilidad_annual'</li><li>'mcomisiones'</li><li>'mactivos_margen'</li><li>'mpasivos_margen'</li><li>'cproductos'</li><li>'mcuenta_corriente'</li><li>'mcaja_ahorro'</li><li>'cdescubierto_preacordado'</li><li>'mcuentas_saldo'</li><li>'ctarjeta_visa_transacciones'</li><li>'mtarjeta_visa_consumo'</li><li>'mtarjeta_master_consumo'</li><li>'mprestamos_personales'</li><li>'cpayroll_trx'</li><li>'mpayroll'</li><li>'ccomisiones_mantenimiento'</li><li>'ccallcenter_transacciones'</li><li>'chomebanking_transacciones'</li><li>'ctrx_quarter'</li><li>'Master_status'</li><li>'Master_fechaalta'</li><li>'Master_mpagominimo'</li><li>'Visa_status'</li><li>'Visa_fechaalta'</li><li>'Visa_mpagominimo'</li><li>'clase_ternaria'</li><li>'kmes'</li><li>'mpayroll_sobre_edad'</li></ol>\n"
            ],
            "text/markdown": "1. 'numero_de_cliente'\n2. 'foto_mes'\n3. 'internet'\n4. 'cliente_edad'\n5. 'cliente_antiguedad'\n6. 'mrentabilidad'\n7. 'mrentabilidad_annual'\n8. 'mcomisiones'\n9. 'mactivos_margen'\n10. 'mpasivos_margen'\n11. 'cproductos'\n12. 'mcuenta_corriente'\n13. 'mcaja_ahorro'\n14. 'cdescubierto_preacordado'\n15. 'mcuentas_saldo'\n16. 'ctarjeta_visa_transacciones'\n17. 'mtarjeta_visa_consumo'\n18. 'mtarjeta_master_consumo'\n19. 'mprestamos_personales'\n20. 'cpayroll_trx'\n21. 'mpayroll'\n22. 'ccomisiones_mantenimiento'\n23. 'ccallcenter_transacciones'\n24. 'chomebanking_transacciones'\n25. 'ctrx_quarter'\n26. 'Master_status'\n27. 'Master_fechaalta'\n28. 'Master_mpagominimo'\n29. 'Visa_status'\n30. 'Visa_fechaalta'\n31. 'Visa_mpagominimo'\n32. 'clase_ternaria'\n33. 'kmes'\n34. 'mpayroll_sobre_edad'\n\n\n",
            "text/latex": "\\begin{enumerate*}\n\\item 'numero\\_de\\_cliente'\n\\item 'foto\\_mes'\n\\item 'internet'\n\\item 'cliente\\_edad'\n\\item 'cliente\\_antiguedad'\n\\item 'mrentabilidad'\n\\item 'mrentabilidad\\_annual'\n\\item 'mcomisiones'\n\\item 'mactivos\\_margen'\n\\item 'mpasivos\\_margen'\n\\item 'cproductos'\n\\item 'mcuenta\\_corriente'\n\\item 'mcaja\\_ahorro'\n\\item 'cdescubierto\\_preacordado'\n\\item 'mcuentas\\_saldo'\n\\item 'ctarjeta\\_visa\\_transacciones'\n\\item 'mtarjeta\\_visa\\_consumo'\n\\item 'mtarjeta\\_master\\_consumo'\n\\item 'mprestamos\\_personales'\n\\item 'cpayroll\\_trx'\n\\item 'mpayroll'\n\\item 'ccomisiones\\_mantenimiento'\n\\item 'ccallcenter\\_transacciones'\n\\item 'chomebanking\\_transacciones'\n\\item 'ctrx\\_quarter'\n\\item 'Master\\_status'\n\\item 'Master\\_fechaalta'\n\\item 'Master\\_mpagominimo'\n\\item 'Visa\\_status'\n\\item 'Visa\\_fechaalta'\n\\item 'Visa\\_mpagominimo'\n\\item 'clase\\_ternaria'\n\\item 'kmes'\n\\item 'mpayroll\\_sobre\\_edad'\n\\end{enumerate*}\n",
            "text/plain": [
              " [1] \"numero_de_cliente\"           \"foto_mes\"                   \n",
              " [3] \"internet\"                    \"cliente_edad\"               \n",
              " [5] \"cliente_antiguedad\"          \"mrentabilidad\"              \n",
              " [7] \"mrentabilidad_annual\"        \"mcomisiones\"                \n",
              " [9] \"mactivos_margen\"             \"mpasivos_margen\"            \n",
              "[11] \"cproductos\"                  \"mcuenta_corriente\"          \n",
              "[13] \"mcaja_ahorro\"                \"cdescubierto_preacordado\"   \n",
              "[15] \"mcuentas_saldo\"              \"ctarjeta_visa_transacciones\"\n",
              "[17] \"mtarjeta_visa_consumo\"       \"mtarjeta_master_consumo\"    \n",
              "[19] \"mprestamos_personales\"       \"cpayroll_trx\"               \n",
              "[21] \"mpayroll\"                    \"ccomisiones_mantenimiento\"  \n",
              "[23] \"ccallcenter_transacciones\"   \"chomebanking_transacciones\" \n",
              "[25] \"ctrx_quarter\"                \"Master_status\"              \n",
              "[27] \"Master_fechaalta\"            \"Master_mpagominimo\"         \n",
              "[29] \"Visa_status\"                 \"Visa_fechaalta\"             \n",
              "[31] \"Visa_mpagominimo\"            \"clase_ternaria\"             \n",
              "[33] \"kmes\"                        \"mpayroll_sobre_edad\"        "
            ]
          },
          "metadata": {}
        }
      ]
    },
    {
      "cell_type": "markdown",
      "id": "9682b4ca-3ab3-4bbc-a36a-b185361e6b6b",
      "metadata": {
        "id": "9682b4ca-3ab3-4bbc-a36a-b185361e6b6b"
      },
      "source": [
        "#### 7.3.1.4  FE_rf Feature Engineering de nuevas variables a partir de hojas de Random Forest\n",
        "\n",
        "Esto se mostrará unicamente a la *modalidad Analista Sr*"
      ]
    },
    {
      "cell_type": "code",
      "source": [
        "# No se implementa Feature Engineering a partir de Random Forest"
      ],
      "metadata": {
        "id": "ljA3h0jOcciP"
      },
      "id": "ljA3h0jOcciP",
      "execution_count": 46,
      "outputs": []
    },
    {
      "cell_type": "markdown",
      "source": [
        "#### 7.3.1.5  FEhist Feature Engineering historico\n",
        "\n",
        "El Fature Engineering Histórico es la etapa que más aporta a la ganancia final, ya que enriquece cada registro del dataset con su historia."
      ],
      "metadata": {
        "id": "XaRBjQj8ZRUZ"
      },
      "id": "XaRBjQj8ZRUZ"
    },
    {
      "cell_type": "markdown",
      "id": "cfe3b8cf-0707-4512-92e7-c1407bb3f73b",
      "metadata": {
        "id": "cfe3b8cf-0707-4512-92e7-c1407bb3f73b"
      },
      "source": [
        "Para cada campo del dataset original (*)\n",
        "se crean lo siguientes campos de a partir de la historia\n",
        "* lag1  lags de orden 1\n",
        "* delta1  =  valor actual - lag1\n",
        "* lag2  lags de orden 2\n",
        "* delta2  = valor actual - lag2\n",
        "\n",
        "\n",
        "(*) Excepto para los campos  <numero_de_cliente,  foto_mes,  clase_ternaria>"
      ]
    },
    {
      "cell_type": "code",
      "execution_count": 47,
      "id": "7850b948-827d-4a2a-b4d3-a5e459b47c11",
      "metadata": {
        "id": "7850b948-827d-4a2a-b4d3-a5e459b47c11"
      },
      "outputs": [],
      "source": [
        "# Feature Engineering Historico\n",
        "\n",
        "# todo es lagueable, menos la primary key y la clase\n",
        "cols_lagueables <- copy( setdiff(\n",
        "    colnames(dataset),\n",
        "    c(\"numero_de_cliente\", \"foto_mes\", \"clase_ternaria\")\n",
        ") )\n",
        "\n",
        "# https://rdrr.io/cran/data.table/man/shift.html\n",
        "\n",
        "# lags de orden 1\n",
        "dataset[,\n",
        "    paste0(cols_lagueables, \"_lag1\") := shift(.SD, 1, NA, \"lag\"),\n",
        "    by = numero_de_cliente,\n",
        "    .SDcols = cols_lagueables\n",
        "]\n",
        "\n",
        "# lags de orden 2\n",
        "dataset[,\n",
        "    paste0(cols_lagueables, \"_lag2\") := shift(.SD, 2, NA, \"lag\"),\n",
        "    by = numero_de_cliente,\n",
        "    .SDcols = cols_lagueables\n",
        "]\n",
        "\n",
        "# agrego los delta lags\n",
        "for (vcol in cols_lagueables)\n",
        "{\n",
        "    dataset[, paste0(vcol, \"_delta1\") := get(vcol) - get(paste0(vcol, \"_lag1\"))]\n",
        "    dataset[, paste0(vcol, \"_delta2\") := get(vcol) - get(paste0(vcol, \"_lag2\"))]\n",
        "}\n"
      ]
    },
    {
      "cell_type": "markdown",
      "id": "cea690d9-ece9-4852-a5e2-f337c31b6721",
      "metadata": {
        "id": "cea690d9-ece9-4852-a5e2-f337c31b6721"
      },
      "source": [
        "Verificacion de los campos recien creados"
      ]
    },
    {
      "cell_type": "code",
      "execution_count": 48,
      "id": "f772896b-595a-47d4-8905-c15304ac9452",
      "metadata": {
        "id": "f772896b-595a-47d4-8905-c15304ac9452",
        "outputId": "1edbd118-3f6f-4131-e025-2db3c92c335b",
        "colab": {
          "base_uri": "https://localhost:8080/",
          "height": 329
        }
      },
      "outputs": [
        {
          "output_type": "display_data",
          "data": {
            "text/html": [
              "158"
            ],
            "text/markdown": "158",
            "text/latex": "158",
            "text/plain": [
              "[1] 158"
            ]
          },
          "metadata": {}
        },
        {
          "output_type": "display_data",
          "data": {
            "text/html": [
              "<style>\n",
              ".list-inline {list-style: none; margin:0; padding: 0}\n",
              ".list-inline>li {display: inline-block}\n",
              ".list-inline>li:not(:last-child)::after {content: \"\\00b7\"; padding: 0 .5ex}\n",
              "</style>\n",
              "<ol class=list-inline><li>'numero_de_cliente'</li><li>'foto_mes'</li><li>'internet'</li><li>'cliente_edad'</li><li>'cliente_antiguedad'</li><li>'mrentabilidad'</li><li>'mrentabilidad_annual'</li><li>'mcomisiones'</li><li>'mactivos_margen'</li><li>'mpasivos_margen'</li><li>'cproductos'</li><li>'mcuenta_corriente'</li><li>'mcaja_ahorro'</li><li>'cdescubierto_preacordado'</li><li>'mcuentas_saldo'</li><li>'ctarjeta_visa_transacciones'</li><li>'mtarjeta_visa_consumo'</li><li>'mtarjeta_master_consumo'</li><li>'mprestamos_personales'</li><li>'cpayroll_trx'</li><li>'mpayroll'</li><li>'ccomisiones_mantenimiento'</li><li>'ccallcenter_transacciones'</li><li>'chomebanking_transacciones'</li><li>'ctrx_quarter'</li><li>'Master_status'</li><li>'Master_fechaalta'</li><li>'Master_mpagominimo'</li><li>'Visa_status'</li><li>'Visa_fechaalta'</li><li>'Visa_mpagominimo'</li><li>'clase_ternaria'</li><li>'kmes'</li><li>'mpayroll_sobre_edad'</li><li>'internet_lag1'</li><li>'cliente_edad_lag1'</li><li>'cliente_antiguedad_lag1'</li><li>'mrentabilidad_lag1'</li><li>'mrentabilidad_annual_lag1'</li><li>'mcomisiones_lag1'</li><li>'mactivos_margen_lag1'</li><li>'mpasivos_margen_lag1'</li><li>'cproductos_lag1'</li><li>'mcuenta_corriente_lag1'</li><li>'mcaja_ahorro_lag1'</li><li>'cdescubierto_preacordado_lag1'</li><li>'mcuentas_saldo_lag1'</li><li>'ctarjeta_visa_transacciones_lag1'</li><li>'mtarjeta_visa_consumo_lag1'</li><li>'mtarjeta_master_consumo_lag1'</li><li>'mprestamos_personales_lag1'</li><li>'cpayroll_trx_lag1'</li><li>'mpayroll_lag1'</li><li>'ccomisiones_mantenimiento_lag1'</li><li>'ccallcenter_transacciones_lag1'</li><li>'chomebanking_transacciones_lag1'</li><li>'ctrx_quarter_lag1'</li><li>'Master_status_lag1'</li><li>'Master_fechaalta_lag1'</li><li>'Master_mpagominimo_lag1'</li><li>'Visa_status_lag1'</li><li>'Visa_fechaalta_lag1'</li><li>'Visa_mpagominimo_lag1'</li><li>'kmes_lag1'</li><li>'mpayroll_sobre_edad_lag1'</li><li>'internet_lag2'</li><li>'cliente_edad_lag2'</li><li>'cliente_antiguedad_lag2'</li><li>'mrentabilidad_lag2'</li><li>'mrentabilidad_annual_lag2'</li><li>'mcomisiones_lag2'</li><li>'mactivos_margen_lag2'</li><li>'mpasivos_margen_lag2'</li><li>'cproductos_lag2'</li><li>'mcuenta_corriente_lag2'</li><li>'mcaja_ahorro_lag2'</li><li>'cdescubierto_preacordado_lag2'</li><li>'mcuentas_saldo_lag2'</li><li>'ctarjeta_visa_transacciones_lag2'</li><li>'mtarjeta_visa_consumo_lag2'</li><li>'mtarjeta_master_consumo_lag2'</li><li>'mprestamos_personales_lag2'</li><li>'cpayroll_trx_lag2'</li><li>'mpayroll_lag2'</li><li>'ccomisiones_mantenimiento_lag2'</li><li>'ccallcenter_transacciones_lag2'</li><li>'chomebanking_transacciones_lag2'</li><li>'ctrx_quarter_lag2'</li><li>'Master_status_lag2'</li><li>'Master_fechaalta_lag2'</li><li>'Master_mpagominimo_lag2'</li><li>'Visa_status_lag2'</li><li>'Visa_fechaalta_lag2'</li><li>'Visa_mpagominimo_lag2'</li><li>'kmes_lag2'</li><li>'mpayroll_sobre_edad_lag2'</li><li>'internet_delta1'</li><li>'internet_delta2'</li><li>'cliente_edad_delta1'</li><li>'cliente_edad_delta2'</li><li>'cliente_antiguedad_delta1'</li><li>'cliente_antiguedad_delta2'</li><li>'mrentabilidad_delta1'</li><li>'mrentabilidad_delta2'</li><li>'mrentabilidad_annual_delta1'</li><li>'mrentabilidad_annual_delta2'</li><li>'mcomisiones_delta1'</li><li>'mcomisiones_delta2'</li><li>'mactivos_margen_delta1'</li><li>'mactivos_margen_delta2'</li><li>'mpasivos_margen_delta1'</li><li>'mpasivos_margen_delta2'</li><li>'cproductos_delta1'</li><li>'cproductos_delta2'</li><li>'mcuenta_corriente_delta1'</li><li>'mcuenta_corriente_delta2'</li><li>'mcaja_ahorro_delta1'</li><li>'mcaja_ahorro_delta2'</li><li>'cdescubierto_preacordado_delta1'</li><li>'cdescubierto_preacordado_delta2'</li><li>'mcuentas_saldo_delta1'</li><li>'mcuentas_saldo_delta2'</li><li>'ctarjeta_visa_transacciones_delta1'</li><li>'ctarjeta_visa_transacciones_delta2'</li><li>'mtarjeta_visa_consumo_delta1'</li><li>'mtarjeta_visa_consumo_delta2'</li><li>'mtarjeta_master_consumo_delta1'</li><li>'mtarjeta_master_consumo_delta2'</li><li>'mprestamos_personales_delta1'</li><li>'mprestamos_personales_delta2'</li><li>'cpayroll_trx_delta1'</li><li>'cpayroll_trx_delta2'</li><li>'mpayroll_delta1'</li><li>'mpayroll_delta2'</li><li>'ccomisiones_mantenimiento_delta1'</li><li>'ccomisiones_mantenimiento_delta2'</li><li>'ccallcenter_transacciones_delta1'</li><li>'ccallcenter_transacciones_delta2'</li><li>'chomebanking_transacciones_delta1'</li><li>'chomebanking_transacciones_delta2'</li><li>'ctrx_quarter_delta1'</li><li>'ctrx_quarter_delta2'</li><li>'Master_status_delta1'</li><li>'Master_status_delta2'</li><li>'Master_fechaalta_delta1'</li><li>'Master_fechaalta_delta2'</li><li>'Master_mpagominimo_delta1'</li><li>'Master_mpagominimo_delta2'</li><li>'Visa_status_delta1'</li><li>'Visa_status_delta2'</li><li>'Visa_fechaalta_delta1'</li><li>'Visa_fechaalta_delta2'</li><li>'Visa_mpagominimo_delta1'</li><li>'Visa_mpagominimo_delta2'</li><li>'kmes_delta1'</li><li>'kmes_delta2'</li><li>'mpayroll_sobre_edad_delta1'</li><li>'mpayroll_sobre_edad_delta2'</li></ol>\n"
            ],
            "text/markdown": "1. 'numero_de_cliente'\n2. 'foto_mes'\n3. 'internet'\n4. 'cliente_edad'\n5. 'cliente_antiguedad'\n6. 'mrentabilidad'\n7. 'mrentabilidad_annual'\n8. 'mcomisiones'\n9. 'mactivos_margen'\n10. 'mpasivos_margen'\n11. 'cproductos'\n12. 'mcuenta_corriente'\n13. 'mcaja_ahorro'\n14. 'cdescubierto_preacordado'\n15. 'mcuentas_saldo'\n16. 'ctarjeta_visa_transacciones'\n17. 'mtarjeta_visa_consumo'\n18. 'mtarjeta_master_consumo'\n19. 'mprestamos_personales'\n20. 'cpayroll_trx'\n21. 'mpayroll'\n22. 'ccomisiones_mantenimiento'\n23. 'ccallcenter_transacciones'\n24. 'chomebanking_transacciones'\n25. 'ctrx_quarter'\n26. 'Master_status'\n27. 'Master_fechaalta'\n28. 'Master_mpagominimo'\n29. 'Visa_status'\n30. 'Visa_fechaalta'\n31. 'Visa_mpagominimo'\n32. 'clase_ternaria'\n33. 'kmes'\n34. 'mpayroll_sobre_edad'\n35. 'internet_lag1'\n36. 'cliente_edad_lag1'\n37. 'cliente_antiguedad_lag1'\n38. 'mrentabilidad_lag1'\n39. 'mrentabilidad_annual_lag1'\n40. 'mcomisiones_lag1'\n41. 'mactivos_margen_lag1'\n42. 'mpasivos_margen_lag1'\n43. 'cproductos_lag1'\n44. 'mcuenta_corriente_lag1'\n45. 'mcaja_ahorro_lag1'\n46. 'cdescubierto_preacordado_lag1'\n47. 'mcuentas_saldo_lag1'\n48. 'ctarjeta_visa_transacciones_lag1'\n49. 'mtarjeta_visa_consumo_lag1'\n50. 'mtarjeta_master_consumo_lag1'\n51. 'mprestamos_personales_lag1'\n52. 'cpayroll_trx_lag1'\n53. 'mpayroll_lag1'\n54. 'ccomisiones_mantenimiento_lag1'\n55. 'ccallcenter_transacciones_lag1'\n56. 'chomebanking_transacciones_lag1'\n57. 'ctrx_quarter_lag1'\n58. 'Master_status_lag1'\n59. 'Master_fechaalta_lag1'\n60. 'Master_mpagominimo_lag1'\n61. 'Visa_status_lag1'\n62. 'Visa_fechaalta_lag1'\n63. 'Visa_mpagominimo_lag1'\n64. 'kmes_lag1'\n65. 'mpayroll_sobre_edad_lag1'\n66. 'internet_lag2'\n67. 'cliente_edad_lag2'\n68. 'cliente_antiguedad_lag2'\n69. 'mrentabilidad_lag2'\n70. 'mrentabilidad_annual_lag2'\n71. 'mcomisiones_lag2'\n72. 'mactivos_margen_lag2'\n73. 'mpasivos_margen_lag2'\n74. 'cproductos_lag2'\n75. 'mcuenta_corriente_lag2'\n76. 'mcaja_ahorro_lag2'\n77. 'cdescubierto_preacordado_lag2'\n78. 'mcuentas_saldo_lag2'\n79. 'ctarjeta_visa_transacciones_lag2'\n80. 'mtarjeta_visa_consumo_lag2'\n81. 'mtarjeta_master_consumo_lag2'\n82. 'mprestamos_personales_lag2'\n83. 'cpayroll_trx_lag2'\n84. 'mpayroll_lag2'\n85. 'ccomisiones_mantenimiento_lag2'\n86. 'ccallcenter_transacciones_lag2'\n87. 'chomebanking_transacciones_lag2'\n88. 'ctrx_quarter_lag2'\n89. 'Master_status_lag2'\n90. 'Master_fechaalta_lag2'\n91. 'Master_mpagominimo_lag2'\n92. 'Visa_status_lag2'\n93. 'Visa_fechaalta_lag2'\n94. 'Visa_mpagominimo_lag2'\n95. 'kmes_lag2'\n96. 'mpayroll_sobre_edad_lag2'\n97. 'internet_delta1'\n98. 'internet_delta2'\n99. 'cliente_edad_delta1'\n100. 'cliente_edad_delta2'\n101. 'cliente_antiguedad_delta1'\n102. 'cliente_antiguedad_delta2'\n103. 'mrentabilidad_delta1'\n104. 'mrentabilidad_delta2'\n105. 'mrentabilidad_annual_delta1'\n106. 'mrentabilidad_annual_delta2'\n107. 'mcomisiones_delta1'\n108. 'mcomisiones_delta2'\n109. 'mactivos_margen_delta1'\n110. 'mactivos_margen_delta2'\n111. 'mpasivos_margen_delta1'\n112. 'mpasivos_margen_delta2'\n113. 'cproductos_delta1'\n114. 'cproductos_delta2'\n115. 'mcuenta_corriente_delta1'\n116. 'mcuenta_corriente_delta2'\n117. 'mcaja_ahorro_delta1'\n118. 'mcaja_ahorro_delta2'\n119. 'cdescubierto_preacordado_delta1'\n120. 'cdescubierto_preacordado_delta2'\n121. 'mcuentas_saldo_delta1'\n122. 'mcuentas_saldo_delta2'\n123. 'ctarjeta_visa_transacciones_delta1'\n124. 'ctarjeta_visa_transacciones_delta2'\n125. 'mtarjeta_visa_consumo_delta1'\n126. 'mtarjeta_visa_consumo_delta2'\n127. 'mtarjeta_master_consumo_delta1'\n128. 'mtarjeta_master_consumo_delta2'\n129. 'mprestamos_personales_delta1'\n130. 'mprestamos_personales_delta2'\n131. 'cpayroll_trx_delta1'\n132. 'cpayroll_trx_delta2'\n133. 'mpayroll_delta1'\n134. 'mpayroll_delta2'\n135. 'ccomisiones_mantenimiento_delta1'\n136. 'ccomisiones_mantenimiento_delta2'\n137. 'ccallcenter_transacciones_delta1'\n138. 'ccallcenter_transacciones_delta2'\n139. 'chomebanking_transacciones_delta1'\n140. 'chomebanking_transacciones_delta2'\n141. 'ctrx_quarter_delta1'\n142. 'ctrx_quarter_delta2'\n143. 'Master_status_delta1'\n144. 'Master_status_delta2'\n145. 'Master_fechaalta_delta1'\n146. 'Master_fechaalta_delta2'\n147. 'Master_mpagominimo_delta1'\n148. 'Master_mpagominimo_delta2'\n149. 'Visa_status_delta1'\n150. 'Visa_status_delta2'\n151. 'Visa_fechaalta_delta1'\n152. 'Visa_fechaalta_delta2'\n153. 'Visa_mpagominimo_delta1'\n154. 'Visa_mpagominimo_delta2'\n155. 'kmes_delta1'\n156. 'kmes_delta2'\n157. 'mpayroll_sobre_edad_delta1'\n158. 'mpayroll_sobre_edad_delta2'\n\n\n",
            "text/latex": "\\begin{enumerate*}\n\\item 'numero\\_de\\_cliente'\n\\item 'foto\\_mes'\n\\item 'internet'\n\\item 'cliente\\_edad'\n\\item 'cliente\\_antiguedad'\n\\item 'mrentabilidad'\n\\item 'mrentabilidad\\_annual'\n\\item 'mcomisiones'\n\\item 'mactivos\\_margen'\n\\item 'mpasivos\\_margen'\n\\item 'cproductos'\n\\item 'mcuenta\\_corriente'\n\\item 'mcaja\\_ahorro'\n\\item 'cdescubierto\\_preacordado'\n\\item 'mcuentas\\_saldo'\n\\item 'ctarjeta\\_visa\\_transacciones'\n\\item 'mtarjeta\\_visa\\_consumo'\n\\item 'mtarjeta\\_master\\_consumo'\n\\item 'mprestamos\\_personales'\n\\item 'cpayroll\\_trx'\n\\item 'mpayroll'\n\\item 'ccomisiones\\_mantenimiento'\n\\item 'ccallcenter\\_transacciones'\n\\item 'chomebanking\\_transacciones'\n\\item 'ctrx\\_quarter'\n\\item 'Master\\_status'\n\\item 'Master\\_fechaalta'\n\\item 'Master\\_mpagominimo'\n\\item 'Visa\\_status'\n\\item 'Visa\\_fechaalta'\n\\item 'Visa\\_mpagominimo'\n\\item 'clase\\_ternaria'\n\\item 'kmes'\n\\item 'mpayroll\\_sobre\\_edad'\n\\item 'internet\\_lag1'\n\\item 'cliente\\_edad\\_lag1'\n\\item 'cliente\\_antiguedad\\_lag1'\n\\item 'mrentabilidad\\_lag1'\n\\item 'mrentabilidad\\_annual\\_lag1'\n\\item 'mcomisiones\\_lag1'\n\\item 'mactivos\\_margen\\_lag1'\n\\item 'mpasivos\\_margen\\_lag1'\n\\item 'cproductos\\_lag1'\n\\item 'mcuenta\\_corriente\\_lag1'\n\\item 'mcaja\\_ahorro\\_lag1'\n\\item 'cdescubierto\\_preacordado\\_lag1'\n\\item 'mcuentas\\_saldo\\_lag1'\n\\item 'ctarjeta\\_visa\\_transacciones\\_lag1'\n\\item 'mtarjeta\\_visa\\_consumo\\_lag1'\n\\item 'mtarjeta\\_master\\_consumo\\_lag1'\n\\item 'mprestamos\\_personales\\_lag1'\n\\item 'cpayroll\\_trx\\_lag1'\n\\item 'mpayroll\\_lag1'\n\\item 'ccomisiones\\_mantenimiento\\_lag1'\n\\item 'ccallcenter\\_transacciones\\_lag1'\n\\item 'chomebanking\\_transacciones\\_lag1'\n\\item 'ctrx\\_quarter\\_lag1'\n\\item 'Master\\_status\\_lag1'\n\\item 'Master\\_fechaalta\\_lag1'\n\\item 'Master\\_mpagominimo\\_lag1'\n\\item 'Visa\\_status\\_lag1'\n\\item 'Visa\\_fechaalta\\_lag1'\n\\item 'Visa\\_mpagominimo\\_lag1'\n\\item 'kmes\\_lag1'\n\\item 'mpayroll\\_sobre\\_edad\\_lag1'\n\\item 'internet\\_lag2'\n\\item 'cliente\\_edad\\_lag2'\n\\item 'cliente\\_antiguedad\\_lag2'\n\\item 'mrentabilidad\\_lag2'\n\\item 'mrentabilidad\\_annual\\_lag2'\n\\item 'mcomisiones\\_lag2'\n\\item 'mactivos\\_margen\\_lag2'\n\\item 'mpasivos\\_margen\\_lag2'\n\\item 'cproductos\\_lag2'\n\\item 'mcuenta\\_corriente\\_lag2'\n\\item 'mcaja\\_ahorro\\_lag2'\n\\item 'cdescubierto\\_preacordado\\_lag2'\n\\item 'mcuentas\\_saldo\\_lag2'\n\\item 'ctarjeta\\_visa\\_transacciones\\_lag2'\n\\item 'mtarjeta\\_visa\\_consumo\\_lag2'\n\\item 'mtarjeta\\_master\\_consumo\\_lag2'\n\\item 'mprestamos\\_personales\\_lag2'\n\\item 'cpayroll\\_trx\\_lag2'\n\\item 'mpayroll\\_lag2'\n\\item 'ccomisiones\\_mantenimiento\\_lag2'\n\\item 'ccallcenter\\_transacciones\\_lag2'\n\\item 'chomebanking\\_transacciones\\_lag2'\n\\item 'ctrx\\_quarter\\_lag2'\n\\item 'Master\\_status\\_lag2'\n\\item 'Master\\_fechaalta\\_lag2'\n\\item 'Master\\_mpagominimo\\_lag2'\n\\item 'Visa\\_status\\_lag2'\n\\item 'Visa\\_fechaalta\\_lag2'\n\\item 'Visa\\_mpagominimo\\_lag2'\n\\item 'kmes\\_lag2'\n\\item 'mpayroll\\_sobre\\_edad\\_lag2'\n\\item 'internet\\_delta1'\n\\item 'internet\\_delta2'\n\\item 'cliente\\_edad\\_delta1'\n\\item 'cliente\\_edad\\_delta2'\n\\item 'cliente\\_antiguedad\\_delta1'\n\\item 'cliente\\_antiguedad\\_delta2'\n\\item 'mrentabilidad\\_delta1'\n\\item 'mrentabilidad\\_delta2'\n\\item 'mrentabilidad\\_annual\\_delta1'\n\\item 'mrentabilidad\\_annual\\_delta2'\n\\item 'mcomisiones\\_delta1'\n\\item 'mcomisiones\\_delta2'\n\\item 'mactivos\\_margen\\_delta1'\n\\item 'mactivos\\_margen\\_delta2'\n\\item 'mpasivos\\_margen\\_delta1'\n\\item 'mpasivos\\_margen\\_delta2'\n\\item 'cproductos\\_delta1'\n\\item 'cproductos\\_delta2'\n\\item 'mcuenta\\_corriente\\_delta1'\n\\item 'mcuenta\\_corriente\\_delta2'\n\\item 'mcaja\\_ahorro\\_delta1'\n\\item 'mcaja\\_ahorro\\_delta2'\n\\item 'cdescubierto\\_preacordado\\_delta1'\n\\item 'cdescubierto\\_preacordado\\_delta2'\n\\item 'mcuentas\\_saldo\\_delta1'\n\\item 'mcuentas\\_saldo\\_delta2'\n\\item 'ctarjeta\\_visa\\_transacciones\\_delta1'\n\\item 'ctarjeta\\_visa\\_transacciones\\_delta2'\n\\item 'mtarjeta\\_visa\\_consumo\\_delta1'\n\\item 'mtarjeta\\_visa\\_consumo\\_delta2'\n\\item 'mtarjeta\\_master\\_consumo\\_delta1'\n\\item 'mtarjeta\\_master\\_consumo\\_delta2'\n\\item 'mprestamos\\_personales\\_delta1'\n\\item 'mprestamos\\_personales\\_delta2'\n\\item 'cpayroll\\_trx\\_delta1'\n\\item 'cpayroll\\_trx\\_delta2'\n\\item 'mpayroll\\_delta1'\n\\item 'mpayroll\\_delta2'\n\\item 'ccomisiones\\_mantenimiento\\_delta1'\n\\item 'ccomisiones\\_mantenimiento\\_delta2'\n\\item 'ccallcenter\\_transacciones\\_delta1'\n\\item 'ccallcenter\\_transacciones\\_delta2'\n\\item 'chomebanking\\_transacciones\\_delta1'\n\\item 'chomebanking\\_transacciones\\_delta2'\n\\item 'ctrx\\_quarter\\_delta1'\n\\item 'ctrx\\_quarter\\_delta2'\n\\item 'Master\\_status\\_delta1'\n\\item 'Master\\_status\\_delta2'\n\\item 'Master\\_fechaalta\\_delta1'\n\\item 'Master\\_fechaalta\\_delta2'\n\\item 'Master\\_mpagominimo\\_delta1'\n\\item 'Master\\_mpagominimo\\_delta2'\n\\item 'Visa\\_status\\_delta1'\n\\item 'Visa\\_status\\_delta2'\n\\item 'Visa\\_fechaalta\\_delta1'\n\\item 'Visa\\_fechaalta\\_delta2'\n\\item 'Visa\\_mpagominimo\\_delta1'\n\\item 'Visa\\_mpagominimo\\_delta2'\n\\item 'kmes\\_delta1'\n\\item 'kmes\\_delta2'\n\\item 'mpayroll\\_sobre\\_edad\\_delta1'\n\\item 'mpayroll\\_sobre\\_edad\\_delta2'\n\\end{enumerate*}\n",
            "text/plain": [
              "  [1] \"numero_de_cliente\"                  \"foto_mes\"                          \n",
              "  [3] \"internet\"                           \"cliente_edad\"                      \n",
              "  [5] \"cliente_antiguedad\"                 \"mrentabilidad\"                     \n",
              "  [7] \"mrentabilidad_annual\"               \"mcomisiones\"                       \n",
              "  [9] \"mactivos_margen\"                    \"mpasivos_margen\"                   \n",
              " [11] \"cproductos\"                         \"mcuenta_corriente\"                 \n",
              " [13] \"mcaja_ahorro\"                       \"cdescubierto_preacordado\"          \n",
              " [15] \"mcuentas_saldo\"                     \"ctarjeta_visa_transacciones\"       \n",
              " [17] \"mtarjeta_visa_consumo\"              \"mtarjeta_master_consumo\"           \n",
              " [19] \"mprestamos_personales\"              \"cpayroll_trx\"                      \n",
              " [21] \"mpayroll\"                           \"ccomisiones_mantenimiento\"         \n",
              " [23] \"ccallcenter_transacciones\"          \"chomebanking_transacciones\"        \n",
              " [25] \"ctrx_quarter\"                       \"Master_status\"                     \n",
              " [27] \"Master_fechaalta\"                   \"Master_mpagominimo\"                \n",
              " [29] \"Visa_status\"                        \"Visa_fechaalta\"                    \n",
              " [31] \"Visa_mpagominimo\"                   \"clase_ternaria\"                    \n",
              " [33] \"kmes\"                               \"mpayroll_sobre_edad\"               \n",
              " [35] \"internet_lag1\"                      \"cliente_edad_lag1\"                 \n",
              " [37] \"cliente_antiguedad_lag1\"            \"mrentabilidad_lag1\"                \n",
              " [39] \"mrentabilidad_annual_lag1\"          \"mcomisiones_lag1\"                  \n",
              " [41] \"mactivos_margen_lag1\"               \"mpasivos_margen_lag1\"              \n",
              " [43] \"cproductos_lag1\"                    \"mcuenta_corriente_lag1\"            \n",
              " [45] \"mcaja_ahorro_lag1\"                  \"cdescubierto_preacordado_lag1\"     \n",
              " [47] \"mcuentas_saldo_lag1\"                \"ctarjeta_visa_transacciones_lag1\"  \n",
              " [49] \"mtarjeta_visa_consumo_lag1\"         \"mtarjeta_master_consumo_lag1\"      \n",
              " [51] \"mprestamos_personales_lag1\"         \"cpayroll_trx_lag1\"                 \n",
              " [53] \"mpayroll_lag1\"                      \"ccomisiones_mantenimiento_lag1\"    \n",
              " [55] \"ccallcenter_transacciones_lag1\"     \"chomebanking_transacciones_lag1\"   \n",
              " [57] \"ctrx_quarter_lag1\"                  \"Master_status_lag1\"                \n",
              " [59] \"Master_fechaalta_lag1\"              \"Master_mpagominimo_lag1\"           \n",
              " [61] \"Visa_status_lag1\"                   \"Visa_fechaalta_lag1\"               \n",
              " [63] \"Visa_mpagominimo_lag1\"              \"kmes_lag1\"                         \n",
              " [65] \"mpayroll_sobre_edad_lag1\"           \"internet_lag2\"                     \n",
              " [67] \"cliente_edad_lag2\"                  \"cliente_antiguedad_lag2\"           \n",
              " [69] \"mrentabilidad_lag2\"                 \"mrentabilidad_annual_lag2\"         \n",
              " [71] \"mcomisiones_lag2\"                   \"mactivos_margen_lag2\"              \n",
              " [73] \"mpasivos_margen_lag2\"               \"cproductos_lag2\"                   \n",
              " [75] \"mcuenta_corriente_lag2\"             \"mcaja_ahorro_lag2\"                 \n",
              " [77] \"cdescubierto_preacordado_lag2\"      \"mcuentas_saldo_lag2\"               \n",
              " [79] \"ctarjeta_visa_transacciones_lag2\"   \"mtarjeta_visa_consumo_lag2\"        \n",
              " [81] \"mtarjeta_master_consumo_lag2\"       \"mprestamos_personales_lag2\"        \n",
              " [83] \"cpayroll_trx_lag2\"                  \"mpayroll_lag2\"                     \n",
              " [85] \"ccomisiones_mantenimiento_lag2\"     \"ccallcenter_transacciones_lag2\"    \n",
              " [87] \"chomebanking_transacciones_lag2\"    \"ctrx_quarter_lag2\"                 \n",
              " [89] \"Master_status_lag2\"                 \"Master_fechaalta_lag2\"             \n",
              " [91] \"Master_mpagominimo_lag2\"            \"Visa_status_lag2\"                  \n",
              " [93] \"Visa_fechaalta_lag2\"                \"Visa_mpagominimo_lag2\"             \n",
              " [95] \"kmes_lag2\"                          \"mpayroll_sobre_edad_lag2\"          \n",
              " [97] \"internet_delta1\"                    \"internet_delta2\"                   \n",
              " [99] \"cliente_edad_delta1\"                \"cliente_edad_delta2\"               \n",
              "[101] \"cliente_antiguedad_delta1\"          \"cliente_antiguedad_delta2\"         \n",
              "[103] \"mrentabilidad_delta1\"               \"mrentabilidad_delta2\"              \n",
              "[105] \"mrentabilidad_annual_delta1\"        \"mrentabilidad_annual_delta2\"       \n",
              "[107] \"mcomisiones_delta1\"                 \"mcomisiones_delta2\"                \n",
              "[109] \"mactivos_margen_delta1\"             \"mactivos_margen_delta2\"            \n",
              "[111] \"mpasivos_margen_delta1\"             \"mpasivos_margen_delta2\"            \n",
              "[113] \"cproductos_delta1\"                  \"cproductos_delta2\"                 \n",
              "[115] \"mcuenta_corriente_delta1\"           \"mcuenta_corriente_delta2\"          \n",
              "[117] \"mcaja_ahorro_delta1\"                \"mcaja_ahorro_delta2\"               \n",
              "[119] \"cdescubierto_preacordado_delta1\"    \"cdescubierto_preacordado_delta2\"   \n",
              "[121] \"mcuentas_saldo_delta1\"              \"mcuentas_saldo_delta2\"             \n",
              "[123] \"ctarjeta_visa_transacciones_delta1\" \"ctarjeta_visa_transacciones_delta2\"\n",
              "[125] \"mtarjeta_visa_consumo_delta1\"       \"mtarjeta_visa_consumo_delta2\"      \n",
              "[127] \"mtarjeta_master_consumo_delta1\"     \"mtarjeta_master_consumo_delta2\"    \n",
              "[129] \"mprestamos_personales_delta1\"       \"mprestamos_personales_delta2\"      \n",
              "[131] \"cpayroll_trx_delta1\"                \"cpayroll_trx_delta2\"               \n",
              "[133] \"mpayroll_delta1\"                    \"mpayroll_delta2\"                   \n",
              "[135] \"ccomisiones_mantenimiento_delta1\"   \"ccomisiones_mantenimiento_delta2\"  \n",
              "[137] \"ccallcenter_transacciones_delta1\"   \"ccallcenter_transacciones_delta2\"  \n",
              "[139] \"chomebanking_transacciones_delta1\"  \"chomebanking_transacciones_delta2\" \n",
              "[141] \"ctrx_quarter_delta1\"                \"ctrx_quarter_delta2\"               \n",
              "[143] \"Master_status_delta1\"               \"Master_status_delta2\"              \n",
              "[145] \"Master_fechaalta_delta1\"            \"Master_fechaalta_delta2\"           \n",
              "[147] \"Master_mpagominimo_delta1\"          \"Master_mpagominimo_delta2\"         \n",
              "[149] \"Visa_status_delta1\"                 \"Visa_status_delta2\"                \n",
              "[151] \"Visa_fechaalta_delta1\"              \"Visa_fechaalta_delta2\"             \n",
              "[153] \"Visa_mpagominimo_delta1\"            \"Visa_mpagominimo_delta2\"           \n",
              "[155] \"kmes_delta1\"                        \"kmes_delta2\"                       \n",
              "[157] \"mpayroll_sobre_edad_delta1\"         \"mpayroll_sobre_edad_delta2\"        "
            ]
          },
          "metadata": {}
        }
      ],
      "source": [
        "ncol(dataset)\n",
        "colnames(dataset)"
      ]
    },
    {
      "cell_type": "markdown",
      "source": [
        "#### 7.3.1.6  FEhist Reduccion dimensionalidad con canaritos\n",
        "\n",
        "Esta etapa solo se mostrará a la *modalidad Anlista Sr* por algun canal secreto de forma de no confundir a los *Analista Jr*  nni distraer con detalles operativos a la estratégica *Modalidad Gerencial*"
      ],
      "metadata": {
        "id": "l8mKij0XaDY0"
      },
      "id": "l8mKij0XaDY0"
    },
    {
      "cell_type": "code",
      "source": [
        "# No se implementa la reduccion de la dimensionalidad con canaritos"
      ],
      "metadata": {
        "id": "QrmnPtlBcEgx"
      },
      "id": "QrmnPtlBcEgx",
      "execution_count": 49,
      "outputs": []
    },
    {
      "cell_type": "markdown",
      "id": "cf91ea5e-3341-4afb-8d05-cc4923d3d1e1",
      "metadata": {
        "id": "cf91ea5e-3341-4afb-8d05-cc4923d3d1e1"
      },
      "source": [
        "### 7.3.2 Modelado"
      ]
    },
    {
      "cell_type": "markdown",
      "id": "526048e4-8cf2-4023-bd2d-a70e4e9ff157",
      "metadata": {
        "id": "526048e4-8cf2-4023-bd2d-a70e4e9ff157"
      },
      "source": [
        "#### 7.3.2.1 Training Strategy\n",
        "\n",
        "Esta etapa de Workflow de  Training Strategy esta pensada para la *Modalidad Gerencial* que posee el dataset de [202005, 202109]\n",
        "<br> Si usted es un Analista, posee el periodo de [201901, 202109] y deberá experimentar en que meses le conviene experimentar\n",
        "\n",
        "<br> A la *Modalidad Gerencial* no se le complicada la vida con el undersampling de los continua, por eso PARAM$trainingstrategy$training_pct <- 1.0\n",
        "<br> Sin embargo, si usted es  *Analista SR* posee un dataset 50 veces ( filas x columnas) más grande que la *Modalidad Gerencial*  y por un tema de velocidad y experimentación más rápida puede llegar a necesitar activar el undersampling de la clase mayoritaria, a pesar de estar corriendo en Google Cloud."
      ]
    },
    {
      "cell_type": "markdown",
      "id": "f16bc1c1-b3ea-43ca-9d3c-53f8f9ab8ec1",
      "metadata": {
        "id": "f16bc1c1-b3ea-43ca-9d3c-53f8f9ab8ec1"
      },
      "source": [
        "Se hace una estrategia de entrenamiento muy sencilla, tomando todos los meses posibles, SIN eliminar nada x pandemia ni por ningun otro motivo\n",
        "\n",
        "* future = 202109  obviamente completo\n",
        "\n",
        "* final_train =  [ 202005, 202107 ]  con un undersampling de los CONTINUA del 2% por un tema de velocidad\n",
        "\n",
        "* training\n",
        "   * testing = NO HAY\n",
        "   * validation =  202107   completo, sin undersampling\n",
        "   * training = [ 202005, 202106 ]  donde se consideran el 100% de los CONTINUA"
      ]
    },
    {
      "cell_type": "code",
      "execution_count": 50,
      "id": "2c9c0a42-ba58-4264-8566-091a6161716f",
      "metadata": {
        "id": "2c9c0a42-ba58-4264-8566-091a6161716f"
      },
      "outputs": [],
      "source": [
        "PARAM$trainingstrategy$validate <- c(202107)\n",
        "\n",
        "PARAM$trainingstrategy$training <- c(\n",
        "  202106, 202105, 202104, 202103, 202102, 202101,\n",
        "  202012, 202011, 202010, 202009, 202008, 202007,\n",
        "  202006, 202005\n",
        ")\n",
        "\n",
        "PARAM$trainingstrategy$training_pct <- 1.0\n",
        "\n",
        "\n",
        "PARAM$trainingstrategy$positivos <- c( \"BAJA+1\", \"BAJA+2\")"
      ]
    },
    {
      "cell_type": "code",
      "source": [
        "# seteo la clase01   1={BAJA+1, BAJA+2}   0={CONTINUA}\n",
        "dataset[, clase01 := ifelse( clase_ternaria %in% PARAM$trainingstrategy$positivos, 1, 0 )]"
      ],
      "metadata": {
        "id": "tv_trHWAj4a8"
      },
      "id": "tv_trHWAj4a8",
      "execution_count": 51,
      "outputs": []
    },
    {
      "cell_type": "code",
      "source": [
        "# los campos en los que se entrena\n",
        "campos_buenos <- copy( setdiff(\n",
        "    colnames(dataset), c(\"clase_ternaria\",\"clase01\",\"azar\"))\n",
        ")"
      ],
      "metadata": {
        "id": "Ud_XDKSIj8f_"
      },
      "id": "Ud_XDKSIj8f_",
      "execution_count": 52,
      "outputs": []
    },
    {
      "cell_type": "code",
      "source": [
        "# preparo para que se puede hacer undersampling de los CONTINUA\n",
        "#  solamente por un tema de VELOCIDAD\n",
        "set.seed(PARAM$semilla_primigenia, kind = \"L'Ecuyer-CMRG\")\n",
        "dataset[, azar:=runif(nrow(dataset))]\n",
        "\n",
        "# undersampling de los CONTINUA\n",
        "dataset[, fold_train :=  foto_mes %in%  PARAM$trainingstrategy$training &\n",
        "    (clase_ternaria %in% c(\"BAJA+1\", \"BAJA+2\") |\n",
        "     azar < PARAM$trainingstrategy$training_pct ) ]\n",
        "\n",
        "\n",
        "if( !require(\"lightgbm\")) install.packages(\"lightgbm\")\n",
        "require(\"lightgbm\")\n",
        "\n",
        "dtrain <- lgb.Dataset(\n",
        "  data= data.matrix(dataset[fold_train == TRUE, campos_buenos, with = FALSE]),\n",
        "  label= dataset[fold_train == TRUE, clase01],\n",
        "  free_raw_data= TRUE\n",
        ")"
      ],
      "metadata": {
        "id": "rFKgZZPSj_Pa"
      },
      "id": "rFKgZZPSj_Pa",
      "execution_count": 53,
      "outputs": []
    },
    {
      "cell_type": "code",
      "source": [
        "# datos de validation\n",
        "dvalidate <- lgb.Dataset(\n",
        "  data= data.matrix(dataset[foto_mes %in% PARAM$trainingstrategy$validate, campos_buenos, with = FALSE]),\n",
        "  label= dataset[foto_mes %in% PARAM$trainingstrategy$validate, clase01],\n",
        "  free_raw_data= TRUE\n",
        ")\n",
        "\n",
        "nrow(dvalidate)"
      ],
      "metadata": {
        "id": "B3yo98kQkHcP",
        "outputId": "df8bf835-c214-401e-d22b-d7327fa224dd",
        "colab": {
          "base_uri": "https://localhost:8080/",
          "height": 34
        }
      },
      "id": "B3yo98kQkHcP",
      "execution_count": 54,
      "outputs": [
        {
          "output_type": "display_data",
          "data": {
            "text/html": [
              "16551"
            ],
            "text/markdown": "16551",
            "text/latex": "16551",
            "text/plain": [
              "[1] 16551"
            ]
          },
          "metadata": {}
        }
      ]
    },
    {
      "cell_type": "markdown",
      "id": "28e8f788-551c-4e50-9029-302ac0834287",
      "metadata": {
        "id": "28e8f788-551c-4e50-9029-302ac0834287"
      },
      "source": [
        "####  7.3.2.2. Hyperparameter Tuning"
      ]
    },
    {
      "cell_type": "markdown",
      "id": "bf5fc836-e222-4aeb-a6a8-157346895ef7",
      "metadata": {
        "id": "bf5fc836-e222-4aeb-a6a8-157346895ef7"
      },
      "source": [
        "* Clase binaria que se optimiza :  positivos = [ BAJA+1, BAJA+2 ]"
      ]
    },
    {
      "cell_type": "markdown",
      "id": "885c03b5-77bc-4510-a930-0d1f14b52ffb",
      "metadata": {
        "id": "885c03b5-77bc-4510-a930-0d1f14b52ffb"
      },
      "source": [
        "* Metrica que se optimiza **AUC** Area Under Curve de la  ROC Curve\n",
        "\n",
        "es muy importante notar que intencionalmente  **NO** se está optimizando la funcion de ganancia del problema"
      ]
    },
    {
      "cell_type": "markdown",
      "id": "b7e6f95c-66ef-4ab9-9ba3-fcc099816704",
      "metadata": {
        "id": "b7e6f95c-66ef-4ab9-9ba3-fcc099816704"
      },
      "source": [
        "* Cantidad de iteraciones inteligentes de la Optimizacion Bayesiana = **10**"
      ]
    },
    {
      "cell_type": "markdown",
      "id": "fe047a87-e2d0-4418-97dd-0a881e66d73a",
      "metadata": {
        "id": "fe047a87-e2d0-4418-97dd-0a881e66d73a"
      },
      "source": [
        "* Parametros no default, fijos de LightGBM que no se optimizan\n",
        "  * max_bin = 31 , Alienigenas Ancestrales contruyeron las pirámides y dejaron a la humanidad en un jeroglifico  *max_bin=31*\n",
        "  * feature_fraction = 0.5  para poner algo que generalmente no falla\n",
        "  * learning_rate = 0.03  para que aprenda lento\n"
      ]
    },
    {
      "cell_type": "markdown",
      "id": "1e7da08e-fe57-4681-beff-11fe963116bd",
      "metadata": {
        "id": "1e7da08e-fe57-4681-beff-11fe963116bd"
      },
      "source": [
        "* Parametros que se optimizan en la Bayesian Optimization\n",
        "  * num_leaves  [8, 256]\n",
        "  * min_data_in_leaf  [8, 8192]"
      ]
    },
    {
      "cell_type": "code",
      "source": [
        "# paquetes necesarios para la Bayesian Optimization\n",
        "if(!require(\"DiceKriging\")) install.packages(\"DiceKriging\")\n",
        "require(\"DiceKriging\")\n",
        "\n",
        "if(!require(\"mlrMBO\")) install.packages(\"mlrMBO\")\n",
        "require(\"mlrMBO\")"
      ],
      "metadata": {
        "id": "34V6y4GetKq_"
      },
      "id": "34V6y4GetKq_",
      "execution_count": 55,
      "outputs": []
    },
    {
      "cell_type": "markdown",
      "source": [
        "Definición de la Bayesian Optimization\n",
        "<br> Si se desea optimizar un hiperparámetro que esta como fijo, debe QUITARSE de param_fijos y agregarse a PARAM$hipeparametertuning$hs"
      ],
      "metadata": {
        "id": "UFbDSYtH0TTT"
      },
      "id": "UFbDSYtH0TTT"
    },
    {
      "cell_type": "code",
      "source": [
        "# valor ridiculamente bajo para que corra rapido en el aula y no molestar a la *Modalidad Gerencial*\n",
        "PARAM$hipeparametertuning$num_interations <- 10\n",
        "\n",
        "# parametros fijos del LightGBM\n",
        "PARAM$lgbm$param_fijos <- list(\n",
        "  objective= \"binary\",\n",
        "  metric= \"auc\",\n",
        "  first_metric_only= TRUE,\n",
        "  boost_from_average= TRUE,\n",
        "  feature_pre_filter= FALSE,\n",
        "  verbosity= -100,\n",
        "  force_row_wise= TRUE, # para evitar warning\n",
        "  seed= PARAM$semilla_primigenia,\n",
        "  max_bin= 31,\n",
        "  learning_rate= 0.03,\n",
        "  feature_fraction= 0.5,\n",
        "  num_iterations= 2048,  # valor grande, lo limita early_stopping_rounds\n",
        "  early_stopping_rounds= 200\n",
        ")\n",
        "\n",
        "PARAM$hipeparametertuning$hs <- makeParamSet(\n",
        "  makeIntegerParam(\"num_leaves\", lower = 2L, upper = 256L),\n",
        "  makeIntegerParam(\"min_data_in_leaf\", lower = 2L, upper = 8192L)\n",
        ")"
      ],
      "metadata": {
        "id": "5Uag3XGHqrfZ"
      },
      "id": "5Uag3XGHqrfZ",
      "execution_count": 56,
      "outputs": []
    },
    {
      "cell_type": "markdown",
      "source": [
        "Función \"señora caja negra\"  que es llamada para verificar la realidad por la Bayesian Optimization"
      ],
      "metadata": {
        "id": "FEa1UuuAz4yj"
      },
      "id": "FEa1UuuAz4yj"
    },
    {
      "cell_type": "code",
      "execution_count": 57,
      "id": "2c10f535-8d90-47d1-ac3d-9b4c24ec21d2",
      "metadata": {
        "id": "2c10f535-8d90-47d1-ac3d-9b4c24ec21d2"
      },
      "outputs": [],
      "source": [
        "# En  x llegan los parmaetros de la bayesiana\n",
        "#  devuelve la AUC en validate del modelo entrenado\n",
        "#  en el parametro x llegan los hiperparámetros que se estan optimizando\n",
        "\n",
        "EstimarGanancia_AUC_lightgbm <- function(x) {\n",
        "\n",
        "  message(format(Sys.time(), \"%a %b %d %X %Y\"))\n",
        "\n",
        "  # uno la lista de hiperparametros : fijos + variables\n",
        "  param_completo <- c(PARAM$lgbm$param_fijos, x)\n",
        "\n",
        "  # entreno LightGBM\n",
        "  modelo_train <- lgb.train(\n",
        "    data= dtrain,\n",
        "    valids= list(valid = dvalidate),\n",
        "    eval= \"auc\",\n",
        "    param= param_completo,\n",
        "    verbose= -100\n",
        "  )\n",
        "\n",
        "  # recupero la AUC en validation\n",
        "  AUC <- modelo_train$record_evals$valid$auc$eval[[modelo_train$best_iter]]\n",
        "\n",
        "  # esta es la forma de devolver un parametro extra\n",
        "  attr(AUC, \"extras\") <- list(\"num_iterations\"= modelo_train$best_iter)\n",
        "\n",
        "  # hago espacio en la memoria\n",
        "  rm(modelo_train)\n",
        "  gc(full= TRUE, verbose= FALSE)\n",
        "\n",
        "  return(AUC)\n",
        "}"
      ]
    },
    {
      "cell_type": "markdown",
      "id": "267a35d4-adaf-4271-a875-3864111333b7",
      "metadata": {
        "id": "267a35d4-adaf-4271-a875-3864111333b7"
      },
      "source": [
        "seteo de la Bayesian Optimization (complejo)\n",
        "<br> copiado y pegado de la documentación de la librería"
      ]
    },
    {
      "cell_type": "code",
      "execution_count": 58,
      "id": "43c2a92d-1041-46b8-bff2-47297f209ed2",
      "metadata": {
        "id": "43c2a92d-1041-46b8-bff2-47297f209ed2"
      },
      "outputs": [],
      "source": [
        "configureMlr(show.learner.output = FALSE)\n",
        "\n",
        "# configuro la busqueda bayesiana,  los hiperparametros que se van a optimizar\n",
        "# por favor, no desesperarse por lo complejo\n",
        "obj.fun <- makeSingleObjectiveFunction(\n",
        "    fn= EstimarGanancia_AUC_lightgbm, # la funcion que voy a maximizar\n",
        "    minimize= FALSE, # estoy Maximizando AUC\n",
        "    noisy= FALSE,\n",
        "    par.set= PARAM$hipeparametertuning$hs,\n",
        "    has.simple.signature= FALSE # paso los parametros en una lista\n",
        ")\n",
        "\n",
        "# cada 600 segundos guardo el resultado intermedio\n",
        "ctrl <- makeMBOControl(\n",
        "    save.on.disk.at.time= 600,\n",
        "    save.file.path= \"HT.RDATA\"\n",
        ")\n",
        "\n",
        "# indico la cantidad de iteraciones que va a tener la Bayesian Optimization\n",
        "ctrl <- setMBOControlTermination(\n",
        "    ctrl,\n",
        "    iters= PARAM$hipeparametertuning$num_interations  # cantidad de iteraciones inteligentes\n",
        ")\n",
        "\n",
        "# defino el método estandar para la creacion de los puntos iniciales\n",
        "#   los \"No Inteligentes\"\n",
        "ctrl <- setMBOControlInfill(ctrl, crit = makeMBOInfillCritEI())\n",
        "\n",
        "# mas configuraciones\n",
        "surr.km <- makeLearner(\n",
        "    \"regr.km\",\n",
        "    predict.type= \"se\",\n",
        "    covtype= \"matern3_2\",\n",
        "    control= list(trace = TRUE)\n",
        ")"
      ]
    },
    {
      "cell_type": "markdown",
      "id": "6c1e5645-d26f-4923-a53f-f30471a4c4e8",
      "metadata": {
        "id": "6c1e5645-d26f-4923-a53f-f30471a4c4e8"
      },
      "source": [
        "Corrida de la Bayesian Optimization,  aqui se hace el trabajo pesado\n",
        "<br> por favor no se asuste con los warnings que pudieran aparecer\n",
        "\n",
        "Si corrío a medias y llegó a las iteraciones inteligentes, en el archivo binario HT.RDATA quedó lo ya procesado y es utilizado para retomar la corrida desde lo último que llegó a grabar."
      ]
    },
    {
      "cell_type": "code",
      "execution_count": 59,
      "id": "1f8cab3f-c7e2-4802-bfd1-5ad509922a4e",
      "metadata": {
        "scrolled": true,
        "id": "1f8cab3f-c7e2-4802-bfd1-5ad509922a4e",
        "outputId": "46518eb2-98e6-4fab-8c09-cdba9db99041",
        "colab": {
          "base_uri": "https://localhost:8080/"
        }
      },
      "outputs": [
        {
          "output_type": "stream",
          "name": "stderr",
          "text": [
            "Computing y column(s) for design. Not provided.\n",
            "\n",
            "Thu Jul 17 12:43:30 AM 2025\n",
            "\n",
            "Thu Jul 17 12:45:28 AM 2025\n",
            "\n",
            "Thu Jul 17 12:46:40 AM 2025\n",
            "\n",
            "Thu Jul 17 12:47:37 AM 2025\n",
            "\n",
            "Thu Jul 17 12:49:42 AM 2025\n",
            "\n",
            "Thu Jul 17 12:51:23 AM 2025\n",
            "\n",
            "Thu Jul 17 12:53:45 AM 2025\n",
            "\n",
            "Thu Jul 17 12:54:51 AM 2025\n",
            "\n",
            "[mbo] 0: num_leaves=247; min_data_in_leaf=5305 : y = 0.932 : 118.1 secs : initdesign\n",
            "\n",
            "[mbo] 0: num_leaves=58; min_data_in_leaf=2332 : y = 0.934 : 71.6 secs : initdesign\n",
            "\n",
            "[mbo] 0: num_leaves=124; min_data_in_leaf=221 : y = 0.937 : 57.0 secs : initdesign\n",
            "\n",
            "[mbo] 0: num_leaves=85; min_data_in_leaf=7443 : y = 0.931 : 125.0 secs : initdesign\n",
            "\n",
            "[mbo] 0: num_leaves=208; min_data_in_leaf=3714 : y = 0.93 : 101.0 secs : initdesign\n",
            "\n",
            "[mbo] 0: num_leaves=13; min_data_in_leaf=4976 : y = 0.931 : 142.3 secs : initdesign\n",
            "\n",
            "[mbo] 0: num_leaves=130; min_data_in_leaf=1711 : y = 0.934 : 66.2 secs : initdesign\n",
            "\n",
            "[mbo] 0: num_leaves=184; min_data_in_leaf=6277 : y = 0.933 : 86.8 secs : initdesign\n",
            "\n",
            "Saved the current state after iteration 1 in the file HT.RDATA.\n",
            "\n",
            "Warning message in generateDesign(control$infill.opt.focussearch.points, ps.local, :\n",
            "“generateDesign could only produce 966 points instead of 1000!”\n",
            "Warning message in generateDesign(control$infill.opt.focussearch.points, ps.local, :\n",
            "“generateDesign could only produce 111 points instead of 1000!”\n",
            "Warning message in generateDesign(control$infill.opt.focussearch.points, ps.local, :\n",
            "“generateDesign could only produce 994 points instead of 1000!”\n",
            "Warning message in generateDesign(control$infill.opt.focussearch.points, ps.local, :\n",
            "“generateDesign could only produce 111 points instead of 1000!”\n",
            "Warning message in generateDesign(control$infill.opt.focussearch.points, ps.local, :\n",
            "“generateDesign could only produce 936 points instead of 1000!”\n",
            "Warning message in generateDesign(control$infill.opt.focussearch.points, ps.local, :\n",
            "“generateDesign could only produce 108 points instead of 1000!”\n",
            "Thu Jul 17 12:56:19 AM 2025\n",
            "\n",
            "[mbo] 1: num_leaves=2; min_data_in_leaf=2 : y = 0.915 : 118.9 secs : infill_ei\n",
            "\n",
            "Thu Jul 17 12:58:18 AM 2025\n",
            "\n",
            "[mbo] 2: num_leaves=109; min_data_in_leaf=201 : y = 0.937 : 41.5 secs : infill_ei\n",
            "\n",
            "Thu Jul 17 12:59:00 AM 2025\n",
            "\n",
            "[mbo] 3: num_leaves=88; min_data_in_leaf=3546 : y = 0.932 : 101.1 secs : infill_ei\n",
            "\n",
            "Warning message in generateDesign(control$infill.opt.focussearch.points, ps.local, :\n",
            "“generateDesign could only produce 612 points instead of 1000!”\n",
            "Warning message in generateDesign(control$infill.opt.focussearch.points, ps.local, :\n",
            "“generateDesign could only produce 731 points instead of 1000!”\n",
            "Warning message in generateDesign(control$infill.opt.focussearch.points, ps.local, :\n",
            "“generateDesign could only produce 612 points instead of 1000!”\n",
            "Thu Jul 17 01:00:41 AM 2025\n",
            "\n",
            "[mbo] 4: num_leaves=158; min_data_in_leaf=2 : y = 0.937 : 53.5 secs : infill_ei\n",
            "\n",
            "Warning message in generateDesign(control$infill.opt.focussearch.points, ps.local, :\n",
            "“generateDesign could only produce 540 points instead of 1000!”\n",
            "Warning message in generateDesign(control$infill.opt.focussearch.points, ps.local, :\n",
            "“generateDesign could only produce 555 points instead of 1000!”\n",
            "Warning message in generateDesign(control$infill.opt.focussearch.points, ps.local, :\n",
            "“generateDesign could only produce 442 points instead of 1000!”\n",
            "Thu Jul 17 01:01:35 AM 2025\n",
            "\n",
            "[mbo] 5: num_leaves=200; min_data_in_leaf=2 : y = 0.938 : 65.3 secs : infill_ei\n",
            "\n",
            "Warning message in generateDesign(control$infill.opt.focussearch.points, ps.local, :\n",
            "“generateDesign could only produce 429 points instead of 1000!”\n",
            "Warning message in generateDesign(control$infill.opt.focussearch.points, ps.local, :\n",
            "“generateDesign could only produce 385 points instead of 1000!”\n",
            "Warning message in generateDesign(control$infill.opt.focussearch.points, ps.local, :\n",
            "“generateDesign could only produce 396 points instead of 1000!”\n",
            "Thu Jul 17 01:02:41 AM 2025\n",
            "\n",
            "[mbo] 6: num_leaves=245; min_data_in_leaf=2 : y = 0.938 : 71.0 secs : infill_ei\n",
            "\n",
            "Thu Jul 17 01:03:53 AM 2025\n",
            "\n",
            "[mbo] 7: num_leaves=220; min_data_in_leaf=546 : y = 0.938 : 158.8 secs : infill_ei\n",
            "\n",
            "Saved the current state after iteration 8 in the file HT.RDATA.\n",
            "\n",
            "Warning message in generateDesign(control$infill.opt.focussearch.points, ps.local, :\n",
            "“generateDesign could only produce 585 points instead of 1000!”\n",
            "Warning message in generateDesign(control$infill.opt.focussearch.points, ps.local, :\n",
            "“generateDesign could only produce 525 points instead of 1000!”\n",
            "Warning message in generateDesign(control$infill.opt.focussearch.points, ps.local, :\n",
            "“generateDesign could only produce 990 points instead of 1000!”\n",
            "Warning message in generateDesign(control$infill.opt.focussearch.points, ps.local, :\n",
            "“generateDesign could only produce 111 points instead of 1000!”\n",
            "Thu Jul 17 01:06:32 AM 2025\n",
            "\n",
            "[mbo] 8: num_leaves=218; min_data_in_leaf=2 : y = 0.935 : 70.2 secs : infill_ei\n",
            "\n",
            "Thu Jul 17 01:07:42 AM 2025\n",
            "\n",
            "[mbo] 9: num_leaves=200; min_data_in_leaf=1071 : y = 0.934 : 110.4 secs : infill_ei\n",
            "\n",
            "Thu Jul 17 01:09:33 AM 2025\n",
            "\n",
            "[mbo] 10: num_leaves=220; min_data_in_leaf=1891 : y = 0.933 : 67.5 secs : infill_ei\n",
            "\n",
            "Saved the final state in the file HT.RDATA\n",
            "\n"
          ]
        }
      ],
      "source": [
        "# inicio la optimizacion bayesiana\n",
        "\n",
        "if (!file.exists(\"HT.RDATA\")) {\n",
        "  bayesiana_salida <- mbo(obj.fun, learner= surr.km, control= ctrl)\n",
        "} else {\n",
        "  bayesiana_salida <- mboContinue(\"HT.RDATA\") # retomo en caso que ya exista\n",
        "}"
      ]
    },
    {
      "cell_type": "markdown",
      "id": "36307612-964f-4df3-907a-1bc3c095f178",
      "metadata": {
        "id": "36307612-964f-4df3-907a-1bc3c095f178"
      },
      "source": [
        "la bayesian optimization ha corrido, extraigo los mejores hiperparametros"
      ]
    },
    {
      "cell_type": "code",
      "execution_count": 60,
      "id": "8c061a2a-3341-4006-a154-c95bb6cfd407",
      "metadata": {
        "id": "8c061a2a-3341-4006-a154-c95bb6cfd407",
        "outputId": "639bf3ad-3deb-4efb-dd71-cc1502749e8e",
        "colab": {
          "base_uri": "https://localhost:8080/"
        }
      },
      "outputs": [
        {
          "output_type": "stream",
          "name": "stdout",
          "text": [
            "   num_leaves min_data_in_leaf num_iterations\n",
            "        <int>            <int>          <int>\n",
            "1:        200                2            184\n"
          ]
        }
      ],
      "source": [
        "# almaceno los resultados de la Bayesian Optimization\n",
        "# y capturo los mejores hiperparametros encontrados\n",
        "\n",
        "tb_bayesiana <- as.data.table(bayesiana_salida$opt.path)\n",
        "\n",
        "# ordeno en forma descendente por AUC = y\n",
        "setorder(tb_bayesiana, -y, -num_iterations)\n",
        "\n",
        "# grabo para eventualmente poder utilizarlos en OTRA corrida\n",
        "fwrite( tb_bayesiana,\n",
        "  file=\"BO_log.txt\",\n",
        "  sep=\"\\t\"\n",
        ")\n",
        "\n",
        "# los mejores hiperparámetros son los que quedaron en el registro 1 de la tabla\n",
        "PARAM$out$lgbm$mejores_hiperparametros <- tb_bayesiana[\n",
        "  1, # el primero es el de mejor AUC\n",
        "  list(num_leaves, min_data_in_leaf, num_iterations)\n",
        "]\n",
        "\n",
        "print(PARAM$out$lgbm$mejores_hiperparametros)"
      ]
    },
    {
      "cell_type": "markdown",
      "id": "ddb554cb-1d96-4f6b-ae1c-c9a076f8dbdc",
      "metadata": {
        "id": "ddb554cb-1d96-4f6b-ae1c-c9a076f8dbdc"
      },
      "source": [
        "### 7.3.3 Produccion"
      ]
    },
    {
      "cell_type": "markdown",
      "id": "c39492c3-756f-47a5-8747-93ade8275306",
      "metadata": {
        "id": "c39492c3-756f-47a5-8747-93ade8275306"
      },
      "source": [
        "### Final Training\n",
        "Construyo el modelo final, que es uno solo, no hace ningun tipo de particion < training, validation, testing>]"
      ]
    },
    {
      "cell_type": "markdown",
      "source": [
        "#### Final Training Dataset\n",
        "\n",
        "Aqui esta la gran decision de en qué meses hago el Final Training\n",
        "<br> debo utilizar los mejores hiperparámetros que encontré en la optimización bayesiana"
      ],
      "metadata": {
        "id": "xhKi_G_sYQqq"
      },
      "id": "xhKi_G_sYQqq"
    },
    {
      "cell_type": "code",
      "source": [
        "PARAM$trainingstrategy$final_train <- c( 202107,\n",
        "  202106, 202105, 202104, 202103, 202102, 202101,\n",
        "  202012, 202011, 202010, 202009, 202008, 202007,\n",
        "  202006, 202005\n",
        ")\n",
        "\n",
        "dataset[, fold_final_train := foto_mes %in% PARAM$trainingstrategy$final_train ]\n",
        "\n",
        "# creo el dfinal_train en formato  LightGBM\n",
        "dfinal_train <- lgb.Dataset(\n",
        "  data= data.matrix(dataset[fold_final_train == TRUE, campos_buenos, with= FALSE]),\n",
        "  label= dataset[fold_final_train == TRUE, clase01],\n",
        "  free_raw_data= TRUE\n",
        ")\n",
        "\n",
        "nrow( dfinal_train) # verifico el tamaño"
      ],
      "metadata": {
        "id": "qyHfS_X0zd7o",
        "outputId": "b914cba1-6a4a-4e34-d88c-efc67ae78eb5",
        "colab": {
          "base_uri": "https://localhost:8080/",
          "height": 34
        }
      },
      "id": "qyHfS_X0zd7o",
      "execution_count": 61,
      "outputs": [
        {
          "output_type": "display_data",
          "data": {
            "text/html": [
              "240562"
            ],
            "text/markdown": "240562",
            "text/latex": "240562",
            "text/plain": [
              "[1] 240562"
            ]
          },
          "metadata": {}
        }
      ]
    },
    {
      "cell_type": "markdown",
      "source": [
        "#### Final Training Hyperparameters"
      ],
      "metadata": {
        "id": "HATRyklxYUpT"
      },
      "id": "HATRyklxYUpT"
    },
    {
      "cell_type": "code",
      "execution_count": 62,
      "id": "d6b9f33c-e0a0-4ea6-8169-4a6180cc5d01",
      "metadata": {
        "id": "d6b9f33c-e0a0-4ea6-8169-4a6180cc5d01"
      },
      "outputs": [],
      "source": [
        "# uno los parametros fijos y los mejores encontrados de los variables\n",
        "fijos <- copy(PARAM$lgbm$param_fijos)\n",
        "\n",
        "# quito lo que optimice en la Bayesian Optimization\n",
        "fijos$num_iterations <- NULL\n",
        "fijos$early_stopping_rounds <- NULL\n",
        "\n",
        "# agrego a los hiperparametros fijos los que encontre con la Bayesian Optimization\n",
        "param_final <- c(fijos, PARAM$out$lgbm$mejores_hiperparametros)"
      ]
    },
    {
      "cell_type": "markdown",
      "id": "05d3494f-0401-4f3e-9b69-f488a737879d",
      "metadata": {
        "id": "05d3494f-0401-4f3e-9b69-f488a737879d"
      },
      "source": [
        "#### Training\n",
        "Genero el modelo final, siempre sobre TODOS los datos de  final_train, sin hacer ningun tipo de undersampling de la clase mayoritaria"
      ]
    },
    {
      "cell_type": "code",
      "execution_count": 63,
      "id": "fa239848-1c28-4ee5-984a-073903b4b279",
      "metadata": {
        "id": "fa239848-1c28-4ee5-984a-073903b4b279"
      },
      "outputs": [],
      "source": [
        "final_model <- lgb.train(\n",
        "  data= dfinal_train,\n",
        "  param= param_final,\n",
        "  verbose= -100\n",
        ")"
      ]
    },
    {
      "cell_type": "code",
      "source": [
        "# grabo a disco el modelo en un formato para seres humanos ... ponele ...\n",
        "\n",
        "lgb.save(final_model, \"modelo.txt\")"
      ],
      "metadata": {
        "id": "RC1ju-5MZN5s"
      },
      "id": "RC1ju-5MZN5s",
      "execution_count": 64,
      "outputs": []
    },
    {
      "cell_type": "code",
      "source": [
        "# ahora imprimo la importancia de variables\n",
        "\n",
        "tb_importancia <- as.data.table(lgb.importance(final_model))\n",
        "archivo_importancia <- \"impo.txt\"\n",
        "\n",
        "fwrite( tb_importancia,\n",
        "  file= archivo_importancia,\n",
        "  sep= \"\\t\"\n",
        ")"
      ],
      "metadata": {
        "id": "VEpv4RYOZHTU"
      },
      "id": "VEpv4RYOZHTU",
      "execution_count": 65,
      "outputs": []
    },
    {
      "cell_type": "markdown",
      "id": "7ea225b3-ce02-42e2-8330-b10ed250d172",
      "metadata": {
        "id": "7ea225b3-ce02-42e2-8330-b10ed250d172"
      },
      "source": [
        "### Scoring"
      ]
    },
    {
      "cell_type": "markdown",
      "id": "164981bb-f4c1-4228-8bc9-32e58a383c05",
      "metadata": {
        "id": "164981bb-f4c1-4228-8bc9-32e58a383c05"
      },
      "source": [
        "Aplico el modelo final a los datos del futuro"
      ]
    },
    {
      "cell_type": "code",
      "source": [
        "PARAM$trainingstrategy$future <- c(202109)\n",
        "\n",
        "dfuture <- dataset[ foto_mes %in% PARAM$trainingstrategy$future ]"
      ],
      "metadata": {
        "id": "eJ7RbT271v-R"
      },
      "id": "eJ7RbT271v-R",
      "execution_count": 66,
      "outputs": []
    },
    {
      "cell_type": "code",
      "execution_count": 67,
      "id": "88ca61c8-fa24-4ce5-8be1-323aca018e8f",
      "metadata": {
        "id": "88ca61c8-fa24-4ce5-8be1-323aca018e8f"
      },
      "outputs": [],
      "source": [
        "# aplico final_model   a dfuture\n",
        "\n",
        "prediccion <- predict(\n",
        "  final_model,\n",
        "  data.matrix(dfuture[, campos_buenos, with= FALSE])\n",
        ")"
      ]
    },
    {
      "cell_type": "markdown",
      "source": [
        "#### Tabla Prediccion"
      ],
      "metadata": {
        "id": "79u0ZvjJZblE"
      },
      "id": "79u0ZvjJZblE"
    },
    {
      "cell_type": "code",
      "source": [
        "tb_prediccion <- dfuture[, list(numero_de_cliente)]\n",
        "tb_prediccion[, prob := prediccion]\n",
        "\n",
        "# grabo las probabilidad del modelo\n",
        "#  me va a ser util para hacer Ensembles de modelos\n",
        "fwrite(tb_prediccion,\n",
        "  file= \"prediccion.txt\",\n",
        "  sep= \"\\t\"\n",
        ")"
      ],
      "metadata": {
        "id": "TB6aerGDZeTo"
      },
      "id": "TB6aerGDZeTo",
      "execution_count": 68,
      "outputs": []
    },
    {
      "cell_type": "markdown",
      "id": "8412d838-5bd5-454e-b3a9-5eaa18d80a50",
      "metadata": {
        "id": "8412d838-5bd5-454e-b3a9-5eaa18d80a50"
      },
      "source": [
        "Kaggle Competition Submit"
      ]
    },
    {
      "cell_type": "markdown",
      "id": "55970cb6-856a-46e3-a893-7f36b8352b8e",
      "metadata": {
        "id": "55970cb6-856a-46e3-a893-7f36b8352b8e"
      },
      "source": [
        "Genero las salidas y hago los submits a Kaggle\n",
        "<br>El notebook esta preparado para la Modalidad Gerencial, los analistas deben hacer cambios.\n",
        "<br> Los analistas deben cambiar **competencia** a SU competencia  \"labo-i-2025-rosario-analista-jr\"   o  la original \"labo-i-2025-rosario\"  para los Senior\n",
        "<br> Los cortes  dependen de la cantidad de registros, multiplicar por 2 para los Analistas Jr y por 10 para los Analista Sr\n",
        "\n",
        "Los Analista Sr luego de meditar cuidadosamente reducirán la cantidad de cortes"
      ]
    },
    {
      "cell_type": "code",
      "execution_count": 69,
      "id": "e5fa2439-b0e9-49e0-a861-71d7315d6e1c",
      "metadata": {
        "id": "e5fa2439-b0e9-49e0-a861-71d7315d6e1c",
        "outputId": "d205078a-f522-495a-c4de-71f6c842c80d",
        "colab": {
          "base_uri": "https://localhost:8080/"
        }
      },
      "outputs": [
        {
          "output_type": "stream",
          "name": "stderr",
          "text": [
            "Warning message in system(linea, intern = TRUE):\n",
            "“running command 'kaggle competitions submit -c labo-i-2025-rosario-gerencial -f ./kaggle/KA1010800117_800.csv -m 'envios=800  semilla=800117'' had status 1”\n"
          ]
        },
        {
          "output_type": "stream",
          "name": "stdout",
          "text": [
            " \n"
          ]
        },
        {
          "output_type": "stream",
          "name": "stderr",
          "text": [
            "Warning message in system(linea, intern = TRUE):\n",
            "“running command 'kaggle competitions submit -c labo-i-2025-rosario-gerencial -f ./kaggle/KA1010800117_850.csv -m 'envios=850  semilla=800117'' had status 1”\n"
          ]
        },
        {
          "output_type": "stream",
          "name": "stdout",
          "text": [
            " \n"
          ]
        },
        {
          "output_type": "stream",
          "name": "stderr",
          "text": [
            "Warning message in system(linea, intern = TRUE):\n",
            "“running command 'kaggle competitions submit -c labo-i-2025-rosario-gerencial -f ./kaggle/KA1010800117_900.csv -m 'envios=900  semilla=800117'' had status 1”\n"
          ]
        },
        {
          "output_type": "stream",
          "name": "stdout",
          "text": [
            " \n"
          ]
        },
        {
          "output_type": "stream",
          "name": "stderr",
          "text": [
            "Warning message in system(linea, intern = TRUE):\n",
            "“running command 'kaggle competitions submit -c labo-i-2025-rosario-gerencial -f ./kaggle/KA1010800117_950.csv -m 'envios=950  semilla=800117'' had status 1”\n"
          ]
        },
        {
          "output_type": "stream",
          "name": "stdout",
          "text": [
            " \n"
          ]
        },
        {
          "output_type": "stream",
          "name": "stderr",
          "text": [
            "Warning message in system(linea, intern = TRUE):\n",
            "“running command 'kaggle competitions submit -c labo-i-2025-rosario-gerencial -f ./kaggle/KA1010800117_1000.csv -m 'envios=1000  semilla=800117'' had status 1”\n"
          ]
        },
        {
          "output_type": "stream",
          "name": "stdout",
          "text": [
            " \n"
          ]
        },
        {
          "output_type": "stream",
          "name": "stderr",
          "text": [
            "Warning message in system(linea, intern = TRUE):\n",
            "“running command 'kaggle competitions submit -c labo-i-2025-rosario-gerencial -f ./kaggle/KA1010800117_1050.csv -m 'envios=1050  semilla=800117'' had status 1”\n"
          ]
        },
        {
          "output_type": "stream",
          "name": "stdout",
          "text": [
            " \n"
          ]
        },
        {
          "output_type": "stream",
          "name": "stderr",
          "text": [
            "Warning message in system(linea, intern = TRUE):\n",
            "“running command 'kaggle competitions submit -c labo-i-2025-rosario-gerencial -f ./kaggle/KA1010800117_1100.csv -m 'envios=1100  semilla=800117'' had status 1”\n"
          ]
        },
        {
          "output_type": "stream",
          "name": "stdout",
          "text": [
            " \n"
          ]
        },
        {
          "output_type": "stream",
          "name": "stderr",
          "text": [
            "Warning message in system(linea, intern = TRUE):\n",
            "“running command 'kaggle competitions submit -c labo-i-2025-rosario-gerencial -f ./kaggle/KA1010800117_1150.csv -m 'envios=1150  semilla=800117'' had status 1”\n"
          ]
        },
        {
          "output_type": "stream",
          "name": "stdout",
          "text": [
            " \n"
          ]
        },
        {
          "output_type": "stream",
          "name": "stderr",
          "text": [
            "Warning message in system(linea, intern = TRUE):\n",
            "“running command 'kaggle competitions submit -c labo-i-2025-rosario-gerencial -f ./kaggle/KA1010800117_1200.csv -m 'envios=1200  semilla=800117'' had status 1”\n"
          ]
        },
        {
          "output_type": "stream",
          "name": "stdout",
          "text": [
            " \n"
          ]
        },
        {
          "output_type": "stream",
          "name": "stderr",
          "text": [
            "Warning message in system(linea, intern = TRUE):\n",
            "“running command 'kaggle competitions submit -c labo-i-2025-rosario-gerencial -f ./kaggle/KA1010800117_1250.csv -m 'envios=1250  semilla=800117'' had status 1”\n"
          ]
        },
        {
          "output_type": "stream",
          "name": "stdout",
          "text": [
            " \n"
          ]
        },
        {
          "output_type": "stream",
          "name": "stderr",
          "text": [
            "Warning message in system(linea, intern = TRUE):\n",
            "“running command 'kaggle competitions submit -c labo-i-2025-rosario-gerencial -f ./kaggle/KA1010800117_1300.csv -m 'envios=1300  semilla=800117'' had status 1”\n"
          ]
        },
        {
          "output_type": "stream",
          "name": "stdout",
          "text": [
            " \n"
          ]
        }
      ],
      "source": [
        "# genero archivos con los  \"envios\" mejores\n",
        "# suba TODOS los archivos a Kaggle\n",
        "\n",
        "PARAM$kaggle$competencia <- \"labo-i-2025-rosario-gerencial\"\n",
        "PARAM$kaggle$cortes <- seq(800, 1300, by = 50)\n",
        "\n",
        "# ordeno por probabilidad descendente\n",
        "setorder(tb_prediccion, -prob)\n",
        "\n",
        "dir.create(\"kaggle\")\n",
        "\n",
        "for (envios in PARAM$kaggle$cortes) {\n",
        "\n",
        "  tb_prediccion[, Predicted := 0L] # seteo inicial a 0\n",
        "  tb_prediccion[1:envios, Predicted := 1L] # marclo los primeros\n",
        "\n",
        "  archivo_kaggle <- paste0(\"./kaggle/KA\", PARAM$experimento, \"_\", envios, \".csv\")\n",
        "\n",
        "  # grabo el archivo\n",
        "  fwrite(tb_prediccion[, list(numero_de_cliente, Predicted)],\n",
        "    file= archivo_kaggle,\n",
        "    sep= \",\"\n",
        "  )\n",
        "\n",
        "  # subida a Kaggle, armo la linea de comando\n",
        "  comando <- \"kaggle competitions submit\"\n",
        "  competencia <- paste(\"-c\", PARAM$kaggle$competencia)\n",
        "  arch <- paste( \"-f\", archivo_kaggle)\n",
        "\n",
        "  mensaje <- paste0(\"-m 'envios=\", envios,\n",
        "  \"  semilla=\", PARAM$semilla_primigenia,\n",
        "    \"'\" )\n",
        "\n",
        "  linea <- paste( comando, competencia, arch, mensaje)\n",
        "\n",
        "  salida <- system(linea, intern=TRUE) # el submit a Kaggle\n",
        "  cat(salida, \"\\n\")\n",
        "}"
      ]
    },
    {
      "cell_type": "code",
      "source": [
        "# grabo los parametros\n",
        "if( !require(\"yaml\")) install.packages(\"yaml\")\n",
        "require(\"yaml\")\n",
        "\n",
        "write_yaml( PARAM, file=\"PARAM.yml\")"
      ],
      "metadata": {
        "id": "C94tK-xid6p2"
      },
      "id": "C94tK-xid6p2",
      "execution_count": 70,
      "outputs": []
    },
    {
      "cell_type": "code",
      "execution_count": 71,
      "id": "1b615a62-20cc-4e95-9af2-6b6db38d5efb",
      "metadata": {
        "id": "1b615a62-20cc-4e95-9af2-6b6db38d5efb",
        "outputId": "a14c45e4-8228-47ab-d9b9-7d8669ed56c7",
        "colab": {
          "base_uri": "https://localhost:8080/",
          "height": 34
        }
      },
      "outputs": [
        {
          "output_type": "display_data",
          "data": {
            "text/html": [
              "'Thu Jul 17 01:11:33 AM 2025'"
            ],
            "text/markdown": "'Thu Jul 17 01:11:33 AM 2025'",
            "text/latex": "'Thu Jul 17 01:11:33 AM 2025'",
            "text/plain": [
              "[1] \"Thu Jul 17 01:11:33 AM 2025\""
            ]
          },
          "metadata": {}
        }
      ],
      "source": [
        "format(Sys.time(), \"%a %b %d %X %Y\")"
      ]
    }
  ],
  "metadata": {
    "kernelspec": {
      "display_name": "Python 3",
      "name": "python3"
    },
    "language_info": {
      "name": "python"
    },
    "colab": {
      "provenance": []
    }
  },
  "nbformat": 4,
  "nbformat_minor": 5
}